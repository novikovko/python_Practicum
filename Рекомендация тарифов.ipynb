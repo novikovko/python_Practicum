{
 "cells": [
  {
   "cell_type": "markdown",
   "metadata": {},
   "source": [
    "<div class=\"alert alert-info\">\n",
    "<font size=\"5\"><b>Комментарий ревьюера</b></font>\n",
    "\n",
    "Привет Кирилл! Меня зовут Марат, и я буду твоим ревьюером. Спешу сообщить что все ключевые этапы в работе выполнены,  с задачей тебе удалось справиться. По поводу обращения - в IT сфере принято общаться на «ты» :) Но, если привычней на «вы», дай знать. Как ревьюера моя задача помочь тебе в развитии, дав хорошие советы. Я внимательно посмотрю твой код, ознакомлюсь с твоими выводами и оставлю комментарии. Где то могу предложить небольшие исправление в коде, но ненавязчиво. Где потребуются уточнения, я оставлю много наводящих вопросов. Они помогут тебя с поиском верного решения.\n",
    "\n",
    "Все мои комментарии размечены по цветам, для лучшего восприятия. \n",
    "    \n",
    "<div class=\"alert alert-success\">Зеленым цветом и словом «Успех» отмечены особо удачные и элегантные решения, которыми ты можешь гордиться. </div>\n",
    "        \n",
    "<div class=\"alert alert-warning\">Желтым и значком словом «Совет», помечены решения у которых есть альтернативные решения, более оптимальные. Ты можешь найти их сразу и доработать проект, или отложить это на потом, для будущих проектах. Проект будет принят и без их доработки. </div>\n",
    "        \n",
    "<div class=\"alert alert-danger\"> Красным цветом и значком словом «Ошибка» помечу твои решения, на которые стоит обратить внимание прежде всего. После их доработки проект будет принят. </div>\n",
    "        \n",
    "Залог успеха - работа сообща, взаимное уважение и работа в диалоге. Поэтому, помечай свои ответные комментарии на мои реплики заметным цветом или курсивом, так мне будет легче их отслеживать. Пожалуйста, не изменяй и не удаляй мои комментарии. Все это поможет выполнить повторную проверку быстрей.\n",
    "\n",
    "</div>"
   ]
  },
  {
   "cell_type": "markdown",
   "metadata": {},
   "source": [
    "<div class=\"alert alert-info\">\n",
    "<font size=\"4\", color = \"black\"><b>✍ Комментарий студента</b></font>\n",
    "    <br /> \n",
    "    <font size=\"3\", color = \"black\">\n",
    "<br /> Привет! Приятно познакомиться, буду поправлять кусочки проекта и вставлять такие ячейки с обратной связью"
   ]
  },
  {
   "cell_type": "markdown",
   "metadata": {},
   "source": [
    "<div class=\"alert alert-success\">\n",
    "<font size=\"5\"><b>Комментарий ревьюераV2</b></font>\n",
    "\n",
    "\n",
    "\n",
    "Успех 👍:\n",
    "\n",
    "\n",
    "\n",
    "Привет Кирилл! Взаимно. Принято\n",
    "\n",
    "\n",
    "\n",
    "\n",
    "</div>\n"
   ]
  },
  {
   "cell_type": "markdown",
   "metadata": {},
   "source": [
    "# Рекомендация тарифов"
   ]
  },
  {
   "cell_type": "markdown",
   "metadata": {},
   "source": [
    "В вашем распоряжении данные о поведении клиентов, которые уже перешли на эти тарифы (из проекта курса «Статистический анализ данных»). Нужно построить модель для задачи классификации, которая выберет подходящий тариф. Предобработка данных не понадобится — вы её уже сделали.\n",
    "\n",
    "Постройте модель с максимально большим значением *accuracy*. Чтобы сдать проект успешно, нужно довести долю правильных ответов по крайней мере до 0.75. Проверьте *accuracy* на тестовой выборке самостоятельно."
   ]
  },
  {
   "cell_type": "markdown",
   "metadata": {},
   "source": [
    "Импортируем библиотеки"
   ]
  },
  {
   "cell_type": "markdown",
   "metadata": {},
   "source": [
    "<div class=\"alert alert-success\">\n",
    "<font size=\"5\"><b>Комментарий ревьюера</b></font>\n",
    "\n",
    "Успех:\n",
    "\n",
    "\n",
    "Вступление в работу очень важно, так человек, который смотрит твой проект (и на работе в том числе) будет сразу введен в курс дела.\n",
    "\n",
    "\n",
    "\n",
    "\n",
    "\n",
    "</div>"
   ]
  },
  {
   "cell_type": "code",
   "execution_count": 1,
   "metadata": {},
   "outputs": [],
   "source": [
    "import pandas as pd\n",
    "import numpy as np\n",
    "import seaborn as sns\n",
    "import matplotlib.pyplot as plt\n",
    "from sklearn.model_selection import train_test_split\n",
    "from sklearn.linear_model import LogisticRegression\n",
    "from sklearn.linear_model import LogisticRegression\n",
    "from sklearn.ensemble import RandomForestClassifier\n",
    "from sklearn.tree import DecisionTreeClassifier\n",
    "from sklearn.dummy import DummyClassifier\n",
    "from sklearn.metrics import accuracy_score\n",
    "from sklearn.metrics import precision_score\n",
    "from sklearn.metrics import recall_score\n",
    "from tqdm import tqdm"
   ]
  },
  {
   "cell_type": "markdown",
   "metadata": {},
   "source": [
    "<div class=\"alert alert-warning\">\n",
    "<font size=\"5\"><b>Комментарий ревьюераV3</b></font>\n",
    "\n",
    "\n",
    "\n",
    "Совет 🤔:\n",
    "\n",
    "Смотри что  можно сделать согласно PEP-8.  Вместо\n",
    "    \n",
    "\n",
    "    from sklearn.metrics import accuracy_score\n",
    "    from sklearn.metrics import precision_score\n",
    "    from sklearn.metrics import recall_score\n",
    "\n",
    "\n",
    "Пишем в одну строку через запятую    \n",
    "\n",
    "    \n",
    "    from sklearn.metrics import accuracy_score, precision_score  ...\n",
    "\n",
    "\n",
    "    \n",
    "А ещё у тебя есть дубликаты импортов    "
   ]
  },
  {
   "cell_type": "markdown",
   "metadata": {},
   "source": [
    "<div class=\"alert alert-success\">\n",
    "<font size=\"5\"><b>Комментарий ревьюера</b></font>\n",
    "\n",
    "Успех:\n",
    "\n",
    "Собираем все импорты в верхней части, чтобы легче было ориентироваться и добавлять новые по необходимости. \n",
    "\n",
    "\n",
    "<div class=\"alert alert-warning\">\n",
    "\n",
    "Совет:     \n",
    "    \n",
    "    \n",
    "\n",
    "\n",
    "- кстати есть рекомендации PEP-8 при написании кода, в том числе и для импортов. Если интересно можешь почитать [тут](https://pythonworld.ru/osnovy/pep-8-rukovodstvo-po-napisaniyu-koda-na-python.html), есть чтоб отправить\n"
   ]
  },
  {
   "cell_type": "markdown",
   "metadata": {},
   "source": [
    "## Откройте и изучите файл"
   ]
  },
  {
   "cell_type": "code",
   "execution_count": 2,
   "metadata": {},
   "outputs": [],
   "source": [
    "data = pd.read_csv('/datasets/users_behavior.csv')"
   ]
  },
  {
   "cell_type": "code",
   "execution_count": 3,
   "metadata": {},
   "outputs": [
    {
     "data": {
      "text/html": [
       "<div>\n",
       "<style scoped>\n",
       "    .dataframe tbody tr th:only-of-type {\n",
       "        vertical-align: middle;\n",
       "    }\n",
       "\n",
       "    .dataframe tbody tr th {\n",
       "        vertical-align: top;\n",
       "    }\n",
       "\n",
       "    .dataframe thead th {\n",
       "        text-align: right;\n",
       "    }\n",
       "</style>\n",
       "<table border=\"1\" class=\"dataframe\">\n",
       "  <thead>\n",
       "    <tr style=\"text-align: right;\">\n",
       "      <th></th>\n",
       "      <th>calls</th>\n",
       "      <th>minutes</th>\n",
       "      <th>messages</th>\n",
       "      <th>mb_used</th>\n",
       "      <th>is_ultra</th>\n",
       "    </tr>\n",
       "  </thead>\n",
       "  <tbody>\n",
       "    <tr>\n",
       "      <th>1907</th>\n",
       "      <td>53.0</td>\n",
       "      <td>406.07</td>\n",
       "      <td>50.0</td>\n",
       "      <td>22709.99</td>\n",
       "      <td>0</td>\n",
       "    </tr>\n",
       "    <tr>\n",
       "      <th>1466</th>\n",
       "      <td>31.0</td>\n",
       "      <td>172.10</td>\n",
       "      <td>25.0</td>\n",
       "      <td>31077.59</td>\n",
       "      <td>0</td>\n",
       "    </tr>\n",
       "    <tr>\n",
       "      <th>1368</th>\n",
       "      <td>21.0</td>\n",
       "      <td>135.88</td>\n",
       "      <td>18.0</td>\n",
       "      <td>9561.56</td>\n",
       "      <td>1</td>\n",
       "    </tr>\n",
       "    <tr>\n",
       "      <th>2483</th>\n",
       "      <td>90.0</td>\n",
       "      <td>603.11</td>\n",
       "      <td>6.0</td>\n",
       "      <td>16294.44</td>\n",
       "      <td>0</td>\n",
       "    </tr>\n",
       "    <tr>\n",
       "      <th>1042</th>\n",
       "      <td>97.0</td>\n",
       "      <td>760.53</td>\n",
       "      <td>77.0</td>\n",
       "      <td>20246.27</td>\n",
       "      <td>1</td>\n",
       "    </tr>\n",
       "  </tbody>\n",
       "</table>\n",
       "</div>"
      ],
      "text/plain": [
       "      calls  minutes  messages   mb_used  is_ultra\n",
       "1907   53.0   406.07      50.0  22709.99         0\n",
       "1466   31.0   172.10      25.0  31077.59         0\n",
       "1368   21.0   135.88      18.0   9561.56         1\n",
       "2483   90.0   603.11       6.0  16294.44         0\n",
       "1042   97.0   760.53      77.0  20246.27         1"
      ]
     },
     "execution_count": 3,
     "metadata": {},
     "output_type": "execute_result"
    }
   ],
   "source": [
    "data.sample(5)"
   ]
  },
  {
   "cell_type": "code",
   "execution_count": 4,
   "metadata": {
    "scrolled": true
   },
   "outputs": [
    {
     "name": "stdout",
     "output_type": "stream",
     "text": [
      "<class 'pandas.core.frame.DataFrame'>\n",
      "RangeIndex: 3214 entries, 0 to 3213\n",
      "Data columns (total 5 columns):\n",
      " #   Column    Non-Null Count  Dtype  \n",
      "---  ------    --------------  -----  \n",
      " 0   calls     3214 non-null   float64\n",
      " 1   minutes   3214 non-null   float64\n",
      " 2   messages  3214 non-null   float64\n",
      " 3   mb_used   3214 non-null   float64\n",
      " 4   is_ultra  3214 non-null   int64  \n",
      "dtypes: float64(4), int64(1)\n",
      "memory usage: 125.7 KB\n"
     ]
    }
   ],
   "source": [
    "data.info()"
   ]
  },
  {
   "cell_type": "code",
   "execution_count": 5,
   "metadata": {},
   "outputs": [
    {
     "data": {
      "text/html": [
       "<div>\n",
       "<style scoped>\n",
       "    .dataframe tbody tr th:only-of-type {\n",
       "        vertical-align: middle;\n",
       "    }\n",
       "\n",
       "    .dataframe tbody tr th {\n",
       "        vertical-align: top;\n",
       "    }\n",
       "\n",
       "    .dataframe thead th {\n",
       "        text-align: right;\n",
       "    }\n",
       "</style>\n",
       "<table border=\"1\" class=\"dataframe\">\n",
       "  <thead>\n",
       "    <tr style=\"text-align: right;\">\n",
       "      <th></th>\n",
       "      <th>calls</th>\n",
       "      <th>minutes</th>\n",
       "      <th>messages</th>\n",
       "      <th>mb_used</th>\n",
       "      <th>is_ultra</th>\n",
       "    </tr>\n",
       "  </thead>\n",
       "  <tbody>\n",
       "    <tr>\n",
       "      <th>count</th>\n",
       "      <td>3214.000000</td>\n",
       "      <td>3214.000000</td>\n",
       "      <td>3214.000000</td>\n",
       "      <td>3214.000000</td>\n",
       "      <td>3214.000000</td>\n",
       "    </tr>\n",
       "    <tr>\n",
       "      <th>mean</th>\n",
       "      <td>63.038892</td>\n",
       "      <td>438.208787</td>\n",
       "      <td>38.281269</td>\n",
       "      <td>17207.673836</td>\n",
       "      <td>0.306472</td>\n",
       "    </tr>\n",
       "    <tr>\n",
       "      <th>std</th>\n",
       "      <td>33.236368</td>\n",
       "      <td>234.569872</td>\n",
       "      <td>36.148326</td>\n",
       "      <td>7570.968246</td>\n",
       "      <td>0.461100</td>\n",
       "    </tr>\n",
       "    <tr>\n",
       "      <th>min</th>\n",
       "      <td>0.000000</td>\n",
       "      <td>0.000000</td>\n",
       "      <td>0.000000</td>\n",
       "      <td>0.000000</td>\n",
       "      <td>0.000000</td>\n",
       "    </tr>\n",
       "    <tr>\n",
       "      <th>25%</th>\n",
       "      <td>40.000000</td>\n",
       "      <td>274.575000</td>\n",
       "      <td>9.000000</td>\n",
       "      <td>12491.902500</td>\n",
       "      <td>0.000000</td>\n",
       "    </tr>\n",
       "    <tr>\n",
       "      <th>50%</th>\n",
       "      <td>62.000000</td>\n",
       "      <td>430.600000</td>\n",
       "      <td>30.000000</td>\n",
       "      <td>16943.235000</td>\n",
       "      <td>0.000000</td>\n",
       "    </tr>\n",
       "    <tr>\n",
       "      <th>75%</th>\n",
       "      <td>82.000000</td>\n",
       "      <td>571.927500</td>\n",
       "      <td>57.000000</td>\n",
       "      <td>21424.700000</td>\n",
       "      <td>1.000000</td>\n",
       "    </tr>\n",
       "    <tr>\n",
       "      <th>max</th>\n",
       "      <td>244.000000</td>\n",
       "      <td>1632.060000</td>\n",
       "      <td>224.000000</td>\n",
       "      <td>49745.730000</td>\n",
       "      <td>1.000000</td>\n",
       "    </tr>\n",
       "  </tbody>\n",
       "</table>\n",
       "</div>"
      ],
      "text/plain": [
       "             calls      minutes     messages       mb_used     is_ultra\n",
       "count  3214.000000  3214.000000  3214.000000   3214.000000  3214.000000\n",
       "mean     63.038892   438.208787    38.281269  17207.673836     0.306472\n",
       "std      33.236368   234.569872    36.148326   7570.968246     0.461100\n",
       "min       0.000000     0.000000     0.000000      0.000000     0.000000\n",
       "25%      40.000000   274.575000     9.000000  12491.902500     0.000000\n",
       "50%      62.000000   430.600000    30.000000  16943.235000     0.000000\n",
       "75%      82.000000   571.927500    57.000000  21424.700000     1.000000\n",
       "max     244.000000  1632.060000   224.000000  49745.730000     1.000000"
      ]
     },
     "execution_count": 5,
     "metadata": {},
     "output_type": "execute_result"
    }
   ],
   "source": [
    "data.describe()"
   ]
  },
  {
   "cell_type": "markdown",
   "metadata": {},
   "source": [
    "Преобразуем тип данных в столбцах calls, messages к типу int."
   ]
  },
  {
   "cell_type": "code",
   "execution_count": 6,
   "metadata": {},
   "outputs": [],
   "source": [
    "data['calls'] = data['calls'].astype('int')\n",
    "data['messages'] = data['messages'].astype('int')"
   ]
  },
  {
   "cell_type": "code",
   "execution_count": 7,
   "metadata": {},
   "outputs": [
    {
     "data": {
      "text/plain": [
       "calls       0\n",
       "minutes     0\n",
       "messages    0\n",
       "mb_used     0\n",
       "is_ultra    0\n",
       "dtype: int64"
      ]
     },
     "execution_count": 7,
     "metadata": {},
     "output_type": "execute_result"
    }
   ],
   "source": [
    "data.isna().sum()"
   ]
  },
  {
   "cell_type": "markdown",
   "metadata": {},
   "source": [
    "Вывод: Имеем датафрейм состоящий из 5 столбцов: \n",
    "* сalls — количество звонков,\n",
    "* minutes — суммарная длительность звонков в минутах,\n",
    "* messages — количество sms-сообщений,\n",
    "* mb_used — израсходованный интернет-трафик в Мб,\n",
    "* is_ultra — каким тарифом пользовался в течение месяца («Ультра» — 1, «Смарт» — 0).\n",
    "\n",
    "Данные в столбцах calls, messages приведены к целочисленному типу данных.\n",
    "Пропуски не обнаружены.\n"
   ]
  },
  {
   "cell_type": "markdown",
   "metadata": {},
   "source": [
    "<div class=\"alert alert-success\">\n",
    "<font size=\"5\"><b>Комментарий ревьюера</b></font>\n",
    "\n",
    "Успех:\n",
    "\n",
    "👍 Данные изучены.\n",
    "\n",
    " \n",
    "    \n",
    "\n",
    "<div class=\"alert alert-warning\">\n",
    "\n",
    "\n",
    "\n",
    "Совет: \n",
    "\n",
    "\n",
    "- .info (дает тебе информацию о пропусках и типах данных), а .describe (медианы, квантили, max, min итд) это такой джентльменский набор при первичной разведке данных (EDA).  \n",
    "\n",
    "\n",
    "\n",
    "- Можно еще отдельно проверить датасет на сбалансированность классов в таргете. Это помогло бы решить бонусное задание сразу (Только не надо балансировать данные, это тема следующего проекта).\n",
    "\n",
    "\n",
    "\n",
    "\n",
    "- Можно посмотреть корреляцию признаков. Знаешь что такое мультиколлинеарность, какие два типа проблем возникает, для каких моделей и какие варианты решения?\n",
    "\n",
    "\n",
    "\n",
    "\n",
    "    \n",
    "- .sample() вместо .head(), ведь если данные каким то образом упорядоченны, то шансы увидеть что то разнообразное через .sample чуть выше чем через .head (или .tail)     \n",
    "   \n",
    "\n",
    "\n",
    "- сейчас это не нужно (пока лучше вручную набивать все эти .info, count_values, .describe, .diplicate...) но в будущем можешь обратить внимание на библиотечки, в которых уже собран необходимый минимум при EDA (и не только минимум), например [pandas_profiling](https://habr.com/ru/companies/ruvds/articles/451478/) - будет информативно и красиво"
   ]
  },
  {
   "cell_type": "markdown",
   "metadata": {},
   "source": [
    "<div class=\"alert alert-info\">\n",
    "<font size=\"4\", color = \"black\"><b>✍ Комментарий студента</b></font>\n",
    "    <br /> \n",
    "    <font size=\"3\", color = \"black\">\n",
    "<br /> взял sample вместо head. Добавил describe()"
   ]
  },
  {
   "cell_type": "markdown",
   "metadata": {},
   "source": [
    "<div class=\"alert alert-info\">\n",
    "<font size=\"4\", color = \"black\"><b>✍ Комментарий студента</b></font>\n",
    "    <br /> \n",
    "    <font size=\"3\", color = \"black\">\n",
    "<br /> Посмотрим корелляцию признаков"
   ]
  },
  {
   "cell_type": "markdown",
   "metadata": {},
   "source": [
    "<div class=\"alert alert-success\">\n",
    "<font size=\"5\"><b>Комментарий ревьюераV2</b></font>\n",
    "\n",
    "\n",
    "\n",
    "Успех 👍:\n",
    "\n",
    "\n",
    "\n",
    "Отлично.  И Как видим в наших данных присутствует мультиколлинеарность\n",
    "\n",
    "\n",
    "\n",
    "\n",
    "</div>\n"
   ]
  },
  {
   "cell_type": "code",
   "execution_count": 8,
   "metadata": {},
   "outputs": [
    {
     "data": {
      "text/html": [
       "<div>\n",
       "<style scoped>\n",
       "    .dataframe tbody tr th:only-of-type {\n",
       "        vertical-align: middle;\n",
       "    }\n",
       "\n",
       "    .dataframe tbody tr th {\n",
       "        vertical-align: top;\n",
       "    }\n",
       "\n",
       "    .dataframe thead th {\n",
       "        text-align: right;\n",
       "    }\n",
       "</style>\n",
       "<table border=\"1\" class=\"dataframe\">\n",
       "  <thead>\n",
       "    <tr style=\"text-align: right;\">\n",
       "      <th></th>\n",
       "      <th>calls</th>\n",
       "      <th>minutes</th>\n",
       "      <th>messages</th>\n",
       "      <th>mb_used</th>\n",
       "      <th>is_ultra</th>\n",
       "    </tr>\n",
       "  </thead>\n",
       "  <tbody>\n",
       "    <tr>\n",
       "      <th>calls</th>\n",
       "      <td>1.000000</td>\n",
       "      <td>0.982083</td>\n",
       "      <td>0.177385</td>\n",
       "      <td>0.286442</td>\n",
       "      <td>0.207122</td>\n",
       "    </tr>\n",
       "    <tr>\n",
       "      <th>minutes</th>\n",
       "      <td>0.982083</td>\n",
       "      <td>1.000000</td>\n",
       "      <td>0.173110</td>\n",
       "      <td>0.280967</td>\n",
       "      <td>0.206955</td>\n",
       "    </tr>\n",
       "    <tr>\n",
       "      <th>messages</th>\n",
       "      <td>0.177385</td>\n",
       "      <td>0.173110</td>\n",
       "      <td>1.000000</td>\n",
       "      <td>0.195721</td>\n",
       "      <td>0.203830</td>\n",
       "    </tr>\n",
       "    <tr>\n",
       "      <th>mb_used</th>\n",
       "      <td>0.286442</td>\n",
       "      <td>0.280967</td>\n",
       "      <td>0.195721</td>\n",
       "      <td>1.000000</td>\n",
       "      <td>0.198568</td>\n",
       "    </tr>\n",
       "    <tr>\n",
       "      <th>is_ultra</th>\n",
       "      <td>0.207122</td>\n",
       "      <td>0.206955</td>\n",
       "      <td>0.203830</td>\n",
       "      <td>0.198568</td>\n",
       "      <td>1.000000</td>\n",
       "    </tr>\n",
       "  </tbody>\n",
       "</table>\n",
       "</div>"
      ],
      "text/plain": [
       "             calls   minutes  messages   mb_used  is_ultra\n",
       "calls     1.000000  0.982083  0.177385  0.286442  0.207122\n",
       "minutes   0.982083  1.000000  0.173110  0.280967  0.206955\n",
       "messages  0.177385  0.173110  1.000000  0.195721  0.203830\n",
       "mb_used   0.286442  0.280967  0.195721  1.000000  0.198568\n",
       "is_ultra  0.207122  0.206955  0.203830  0.198568  1.000000"
      ]
     },
     "metadata": {},
     "output_type": "display_data"
    },
    {
     "data": {
      "image/png": "[encoded data removed]",
      "text/plain": [
       "<Figure size 576x360 with 2 Axes>"
      ]
     },
     "metadata": {
      "needs_background": "light"
     },
     "output_type": "display_data"
    }
   ],
   "source": [
    "corr_matrix = data.corr()\n",
    "display(corr_matrix)\n",
    "fig, ax = plt.subplots(figsize=(8, 5))\n",
    "sns.heatmap(corr_matrix, annot=True, cmap=\"coolwarm\");"
   ]
  },
  {
   "cell_type": "markdown",
   "metadata": {},
   "source": [
    "## Разбейте данные на выборки"
   ]
  },
  {
   "cell_type": "markdown",
   "metadata": {},
   "source": [
    "Разделим выборку на два датафрейма:\n",
    "\n",
    "* features (англ. «признаки») — запишите в неё признаки\n",
    "* target (англ. «цель») — целевой признак"
   ]
  },
  {
   "cell_type": "code",
   "execution_count": 9,
   "metadata": {},
   "outputs": [],
   "source": [
    "features = data.drop(['is_ultra'], axis=1)\n",
    "target = data['is_ultra']"
   ]
  },
  {
   "cell_type": "markdown",
   "metadata": {},
   "source": [
    "<div class=\"alert alert-info\">\n",
    "<font size=\"4\", color = \"black\"><b>✍ Комментарий студента</b></font>\n",
    "    <br /> \n",
    "    <font size=\"3\", color = \"black\">\n",
    "<br /> Посмотрим сбалансированность классов:"
   ]
  },
  {
   "cell_type": "code",
   "execution_count": 10,
   "metadata": {},
   "outputs": [
    {
     "name": "stdout",
     "output_type": "stream",
     "text": [
      "Кол-во элементов класса 1:  985\n",
      "Кол-во элементов класса 1:  2229\n"
     ]
    }
   ],
   "source": [
    "print(\"Кол-во элементов класса 1: \", target.sum())\n",
    "print (\"Кол-во элементов класса 1: \", target.count()-target.sum())"
   ]
  },
  {
   "cell_type": "markdown",
   "metadata": {},
   "source": [
    "<div class=\"alert alert-info\">\n",
    "<font size=\"4\", color = \"black\"><b>✍ Комментарий студента</b></font>\n",
    "    <br /> \n",
    "    <font size=\"3\", color = \"black\">\n",
    "<br /> Классы несбалансированны :("
   ]
  },
  {
   "cell_type": "markdown",
   "metadata": {},
   "source": [
    "<div class=\"alert alert-success\">\n",
    "<font size=\"5\"><b>Комментарий ревьюераV2</b></font>\n",
    "\n",
    "Успех:\n",
    "  \n",
    "    \n",
    "\n",
    "\n",
    "Действительно есть дисбаланс. Как работать с этим чтобы модель обучалась лучше, об этом в следующем проекте.  Как он может быть полезен для нашего проекта?! Как видишь нулей у нас 69% - это сразу решение бонусного задания. Именно accuracy 0,69 наша модель должна превзойти чтобы быть признанной адекватной\n",
    "\n",
    "\n"
   ]
  },
  {
   "cell_type": "markdown",
   "metadata": {},
   "source": [
    "Разделим данные на обучающий набор и временный набор (валидационный + тестовый)"
   ]
  },
  {
   "cell_type": "code",
   "execution_count": 11,
   "metadata": {},
   "outputs": [],
   "source": [
    "features_train, features_test, target_train, target_test = train_test_split(\n",
    "    features, target, test_size=0.4, random_state=12345, stratify = target)"
   ]
  },
  {
   "cell_type": "markdown",
   "metadata": {},
   "source": [
    "Теперь разделим временный набор на валидационный и тестовый наборы"
   ]
  },
  {
   "cell_type": "code",
   "execution_count": 12,
   "metadata": {},
   "outputs": [],
   "source": [
    "features_valid, features_test, target_valid, target_test = train_test_split(\n",
    "    features_test, target_test, test_size=0.5, random_state=12345)"
   ]
  },
  {
   "cell_type": "markdown",
   "metadata": {},
   "source": [
    "Посмотрим размеры выборок"
   ]
  },
  {
   "cell_type": "code",
   "execution_count": 13,
   "metadata": {},
   "outputs": [
    {
     "name": "stdout",
     "output_type": "stream",
     "text": [
      "Размер обучающей выборки: (1928, 4) ;  60.0 %\n",
      "Размер валидационной выборки: (643, 4) ;  20.0 %\n",
      "Размер тестовой выборки: (643, 4) ;  20.0 %\n"
     ]
    }
   ],
   "source": [
    "print('Размер обучающей выборки:',features_train.shape,\"; \", round(features_train.shape[0]/3214,2)*100, \"%\")\n",
    "print('Размер валидационной выборки:',features_valid.shape,\"; \", round(features_valid.shape[0]/3214,2)*100, \"%\")\n",
    "print('Размер тестовой выборки:',features_test.shape,\"; \", round(features_test.shape[0]/3214,2)*100, \"%\")"
   ]
  },
  {
   "cell_type": "markdown",
   "metadata": {},
   "source": [
    "<div class=\"alert alert-success\">\n",
    "<font size=\"5\"><b>Комментарий ревьюера</b></font>\n",
    "\n",
    "Успех:\n",
    "\n",
    "Все правильно!\n",
    "\n",
    "Здорово что проконтролировано разбиение (можно с помощью .shape,  можно .len)\n",
    "\n",
    "\n",
    "<div class=\"alert alert-warning\">\n",
    "\n",
    "\n",
    "\n",
    "Совет: \n",
    "\n",
    "\n",
    "- Обрати внимание на аргумент stratify, он позволит сохранить изначальное распределение таргетов во всех новых датасетах.  Существующий дисбаланс никуда не денется, но в каждом датасете он будет одинаковым. [Почитать](https://pythonru.com/baza-znanij/sklearn-train-test-split) можно тут\n",
    "\n",
    "\n",
    "\n"
   ]
  },
  {
   "cell_type": "markdown",
   "metadata": {},
   "source": [
    "<div class=\"alert alert-info\">\n",
    "<font size=\"4\", color = \"black\"><b>✍ Комментарий студента</b></font>\n",
    "    <br /> \n",
    "    <font size=\"3\", color = \"black\">\n",
    "<br /> Добавил аргумент stratify"
   ]
  },
  {
   "cell_type": "markdown",
   "metadata": {},
   "source": [
    "<div class=\"alert alert-success\">\n",
    "<font size=\"5\"><b>Комментарий ревьюераV2</b></font>\n",
    "\n",
    "\n",
    "\n",
    "Успех 👍:\n",
    "\n",
    "\n",
    "\n",
    "👍\n",
    "\n",
    "\n",
    "\n",
    "\n",
    "</div>\n"
   ]
  },
  {
   "cell_type": "markdown",
   "metadata": {},
   "source": [
    "## Исследуйте модели"
   ]
  },
  {
   "cell_type": "markdown",
   "metadata": {},
   "source": [
    "Рассмотрим первую модель: DecisionTreeClassifier. Переберем гиперпараметр max_depth от 1 до 10 в цикле"
   ]
  },
  {
   "cell_type": "code",
   "execution_count": 14,
   "metadata": {},
   "outputs": [
    {
     "name": "stderr",
     "output_type": "stream",
     "text": [
      "100%|██████████| 10/10 [00:00<00:00, 153.89it/s]"
     ]
    },
    {
     "name": "stdout",
     "output_type": "stream",
     "text": [
      "Accuracy_score лучшей модели: 0.8055987558320373 Максимальная глубина: 5\n"
     ]
    },
    {
     "name": "stderr",
     "output_type": "stream",
     "text": [
      "\n"
     ]
    }
   ],
   "source": [
    "best_model_dtc = None\n",
    "best_depth_dtc = 0\n",
    "best_result_dtc = 0\n",
    "for depth in tqdm(range(1, 11)):\n",
    "    model = DecisionTreeClassifier(random_state=12345, max_depth = depth)\n",
    "    model.fit(features_train, target_train)\n",
    "    predictions_valid = model.predict(features_valid)\n",
    "    result = accuracy_score(predictions_valid, target_valid)\n",
    "    if  result > best_result_dtc:\n",
    "        best_model_dtc = model\n",
    "        best_depth_dtc = depth\n",
    "        best_result_dtc = result\n",
    "print(\"Accuracy_score лучшей модели:\", best_result_dtc, \"Максимальная глубина:\", best_depth_dtc)"
   ]
  },
  {
   "cell_type": "markdown",
   "metadata": {},
   "source": [
    "<div class=\"alert alert-success\">\n",
    "<font size=\"5\"><b>Комментарий ревьюера</b></font>\n",
    "\n",
    "Успех:\n",
    " \n",
    "Работа выполнена в соответствии с критериями: \n",
    "\n",
    "\n",
    "\n",
    " - модель обучена на обучающем наборе\n",
    " - получена оценка качества на валидационном наборе\n",
    " - перебор гиперпараметров осуществляется в цикле\n",
    "\n",
    "\n",
    "\n",
    "\n",
    "<div class=\"alert alert-warning\">\n",
    "\n",
    "\n",
    "Совет: \n",
    "\n",
    "- Можно добавить график, хорошо оформленный график украсит проект. Тут на графике можно посмотреть как при изменении max_depth меняется точность на train и validation датасете (для этого собираем наши метрики на валидации и train в списки, а затем по ним обычный plt.plot()) Такой способ используют чтобы лучше отследить переобучение, но для этого стоит взять пернебор по max_depth поглубже\n",
    "\n",
    "\n",
    "- tree_plot можно построить, с max_depth равной 3 или 4 (глубже уже будет громоздко) - глянуть как DT сплиты делает, будет понимание как модель принимает решения: какие признаки  использует, на каких значениях делает разбиение вправо - влево \n",
    "\n",
    "\n",
    "\n",
    "\n",
    "</div>\n",
    "\n"
   ]
  },
  {
   "cell_type": "markdown",
   "metadata": {},
   "source": [
    "<div class=\"alert alert-info\">\n",
    "<font size=\"4\", color = \"black\"><b>✍ Комментарий студента</b></font>\n",
    "    <br /> \n",
    "    <font size=\"3\", color = \"black\">\n",
    "<br /> Рисовал дерево для себя, но удалил его из финального проекта, так как с точки зрения наглядности оно не несет никакого импакта."
   ]
  },
  {
   "cell_type": "markdown",
   "metadata": {},
   "source": [
    "<div class=\"alert alert-warning\">\n",
    "<font size=\"5\"><b>Комментарий ревьюераV2</b></font>\n",
    "\n",
    "\n",
    "\n",
    "Совет 🤔:\n",
    "\n",
    "\n",
    "\n",
    "Не скажи )\n"
   ]
  },
  {
   "cell_type": "markdown",
   "metadata": {},
   "source": [
    "Перейдем к следующей модели: RandomForestClassifier"
   ]
  },
  {
   "cell_type": "code",
   "execution_count": 15,
   "metadata": {
    "scrolled": true
   },
   "outputs": [
    {
     "name": "stderr",
     "output_type": "stream",
     "text": [
      "100%|██████████| 10/10 [00:02<00:00,  4.62it/s]"
     ]
    },
    {
     "name": "stdout",
     "output_type": "stream",
     "text": [
      "Accuracy_score лучшей модели: 0.8133748055987559 Количество деревьев: 3 Максимальная глубина: 6\n"
     ]
    },
    {
     "name": "stderr",
     "output_type": "stream",
     "text": [
      "\n"
     ]
    }
   ],
   "source": [
    "best_model_rfc = None\n",
    "best_result_rfc = 0\n",
    "best_est_rfc = 0\n",
    "accuracy_train = []\n",
    "accuracy_valid = []\n",
    "depth_dt = []\n",
    "result_valid_dt = []\n",
    "result_train_dt = []\n",
    "\n",
    "for est in tqdm(range(1,11)):\n",
    "    for depth in range (1, 11):\n",
    "        model = RandomForestClassifier(random_state=12345, n_estimators=est, max_depth=depth)\n",
    "        model.fit(features_train, target_train) \n",
    "        \n",
    "        predictions_valid = model.predict(features_valid) \n",
    "        predictions_train = model.predict(features_train)\n",
    "        result_valid = accuracy_score(target_valid, predictions_valid)\n",
    "        result_train = accuracy_score(target_train, predictions_train)\n",
    "        if est == 3:\n",
    "            result_valid_dt.append(result_valid)\n",
    "            result_train_dt.append(result_train)\n",
    "            depth_dt.append(depth)\n",
    "            \n",
    "        if result_valid > best_result_rfc:\n",
    "            best_model_rfc = model\n",
    "            best_result_rfc = result_valid\n",
    "            best_est_rfc = est\n",
    "            best_depth_rfc = depth\n",
    "print(\"Accuracy_score лучшей модели:\", best_result_rfc, \"Количество деревьев:\", best_est_rfc, \"Максимальная глубина:\", best_depth_rfc)"
   ]
  },
  {
   "cell_type": "markdown",
   "metadata": {},
   "source": [
    "<div class=\"alert alert-danger\">\n",
    "<font size=\"5\"><b>Комментарий ревьюераV2</b></font>\n",
    "\n",
    "Ошибка:\n",
    "\n",
    "Вылетает ошибка     \n",
    "    \n",
    "    NameError: name 'result_valid' is not defined\n",
    "\n",
    "\n",
    "    \n",
    "Стоит перед отправкой проекта перезапустить ядро и выполнить все ячейки – так можно проверить, что код работает:\n",
    "    \n",
    "<img src='https://jing.yandex-team.ru/files/aslvova/Screenshot%202022-05-31%20at%2011.08.40.png' alt='restart_kernel_and_run_all' width='400'>\n",
    "\n",
    "\n",
    "</div>"
   ]
  },
  {
   "cell_type": "markdown",
   "metadata": {},
   "source": [
    "<div class=\"alert alert-info\">\n",
    "<font size=\"4\", color = \"black\"><b>✍ Комментарий студента V2</b></font>\n",
    "    <br /> \n",
    "    <font size=\"3\", color = \"black\">\n",
    "<br /> Исправил"
   ]
  },
  {
   "cell_type": "markdown",
   "metadata": {},
   "source": [
    "<div class=\"alert alert-success\">\n",
    "<font size=\"5\"><b>Комментарий ревьюераV3</b></font>\n",
    "\n",
    "\n",
    "\n",
    "Успех 👍:\n",
    "\n",
    "\n",
    "\n",
    "👍\n",
    "\n",
    "\n",
    "\n",
    "\n",
    "</div>\n"
   ]
  },
  {
   "cell_type": "code",
   "execution_count": 16,
   "metadata": {
    "scrolled": false
   },
   "outputs": [
    {
     "data": {
      "image/png": "[encoded data removed]",
      "text/plain": [
       "<Figure size 1152x432 with 1 Axes>"
      ]
     },
     "metadata": {
      "needs_background": "light"
     },
     "output_type": "display_data"
    }
   ],
   "source": [
    "plt.figure(figsize=(16, 6))\n",
    "plt.grid(True)\n",
    "plt.plot(depth_dt, result_train_dt)\n",
    "plt.plot(depth_dt, result_valid_dt)\n",
    "plt.legend(['Обучающая выборка', 'Валидационная выборка'])\n",
    "plt.xlabel('Глубина дерева (depth)')\n",
    "plt.ylabel('Качество модели (Accuracy_score)')\n",
    "plt.title('Зависимость качества моделей RandomForestClassifier от глубины дерева на обучающей и валидационной выборке')\n",
    "plt.show()"
   ]
  },
  {
   "cell_type": "markdown",
   "metadata": {},
   "source": [
    "<div class=\"alert alert-info\">\n",
    "<font size=\"4\", color = \"black\"><b>✍ Комментарий студента</b></font>\n",
    "    <br /> \n",
    "    <font size=\"3\", color = \"black\">\n",
    "<br /> Добавил зависимость Accuracy_score от depth для количество деревьев = 3"
   ]
  },
  {
   "cell_type": "markdown",
   "metadata": {},
   "source": [
    "\n",
    "\n",
    "\n",
    "<div class=\"alert alert-success\">\n",
    "<font size=\"5\"><b>Комментарий ревьюера</b></font>\n",
    "\n",
    "Успех:\n",
    "   \n",
    "\n",
    "\n",
    " \n",
    "По большему числу гиперпараметров перебор -   тем лучше метрика. Случайный лес мощная модель и по ней действительно стоит поперебирать несколько гиперпораметров. Здорово   \n",
    "\n",
    "\n",
    "\n",
    "\n",
    "<div class=\"alert alert-warning\">\n",
    "\n",
    "\n",
    "Совет: \n",
    "\n",
    "\n",
    "\n",
    "\n",
    "- Когда что то долго крутиться, можно использовать  %%time - ставишь на самый вверх ячейки с кодом, время выполнения которого хочешь замерить, может не знаешь.  Быстрее не станет, но все будут видеть стоит ли ждать не отходя от ПК или можно сходить чаек поставить )) \n",
    "    \n",
    "    Или tqdm, это ещё лучше, потому что он показывает интерактивно, на каком этапе расчетов мы находимся\n",
    "\n",
    "    \n",
    "    from tqdm import tqdm\n",
    "\n",
    "\n",
    "    for n_estimators in tqdm(range(3,58)):\n",
    "\n",
    "        ..........\n",
    "\n",
    "\n",
    "\n",
    "(дальше мы будем уходить от неэффективных в питоне циклов к apply.  Там тоже есть аналог прогресс-баров:  .progress_apply)\n",
    "    \n",
    "И будет красиво )   \n",
    " \n",
    "\n",
    "\n",
    "\n",
    "\n",
    "\n",
    "</div>\n"
   ]
  },
  {
   "cell_type": "markdown",
   "metadata": {},
   "source": [
    "<div class=\"alert alert-info\">\n",
    "<font size=\"4\", color = \"black\"><b>✍ Комментарий студента</b></font>\n",
    "    <br /> \n",
    "    <font size=\"3\", color = \"black\">\n",
    "<br /> Добавил прогрессбар"
   ]
  },
  {
   "cell_type": "markdown",
   "metadata": {},
   "source": [
    "Рассмотрим модель LogisticRegression"
   ]
  },
  {
   "cell_type": "code",
   "execution_count": 17,
   "metadata": {},
   "outputs": [
    {
     "name": "stdout",
     "output_type": "stream",
     "text": [
      "Accuracy_score модели: 0.7371695178849145\n"
     ]
    }
   ],
   "source": [
    "model_lr = LogisticRegression(random_state=12345)\n",
    "model_lr.fit(features_train, target_train)\n",
    "predictions_valid = model_lr.predict(features_valid)\n",
    "result_lr = accuracy_score(predictions_valid, target_valid)\n",
    "\n",
    "print(\"Accuracy_score модели:\",result_lr)"
   ]
  },
  {
   "cell_type": "markdown",
   "metadata": {},
   "source": [
    "Вывод: Рассмотрены 3 модели с разными гиперпараметрами: решающее дерево, случайный лес, логистическая регрессия.\n",
    "* Решающее дерево. Лучшая модель с параметром максимальная глубина = 5. Accuracy_score такой модели = 0.806\n",
    "* Случайный лес. Лучшая модель с параметрами количество деревьев = 3, максимальная глубина = 6. Accuracy_score такой модели = 0.813\n",
    "* Логистическая регрессия. Accuracy_score такой модели = 0.737\n",
    "\n",
    "Итак, наилучшая модель (модель с максимально большим значением accuracy) - RandomForestClassifier с количеством деревьев = 3 и глубиной = 6."
   ]
  },
  {
   "cell_type": "markdown",
   "metadata": {},
   "source": [
    "\n",
    "\n",
    "<div class=\"alert alert-success\">\n",
    "<font size=\"5\"><b>Комментарий ревьюера</b></font>\n",
    "\n",
    "Успех:\n",
    "\n",
    "\n",
    "Все верно, RF лучший. \n",
    "\n",
    "\n",
    "<div class=\"alert alert-warning\">\n",
    "\n",
    "\n",
    "Совет: \n",
    "\n",
    "Если есть желание можешь ответить на вопросики ))    \n",
    "\n",
    "\n",
    "\n",
    "- Как назвать ситуацию, когда на валидации при увеличении глубины дерева (модель DT), метрика качества стала снижаться? Как по твоему в это же время вела себя эта же метрика на train?\n",
    "\n",
    "\n",
    "- Насколько знаю вы еще под капот моделям не заглядывали, но может знаешь почему обычно RF показывает более высокие результаты из выбранных?\n",
    "\n",
    "\n",
    "- Мы решаем задачу классификации (а еще есть задача регрессии), а в названии модели с помощью которой мы решаем задачу \"классификации\" (Логистическая регрессия) есть слово \"регрессия\".  Нет ли тут парадокса? )\n",
    "    \n",
    "\n",
    "- Почему логистическая регрессия может показывать на много более худшие результаты?  \n",
    "\n",
    "\n",
    "</div>\n",
    "\n",
    "\n",
    "\n"
   ]
  },
  {
   "cell_type": "markdown",
   "metadata": {},
   "source": [
    "<div class=\"alert alert-info\">\n",
    "<font size=\"4\", color = \"black\"><b>✍ Комментарий студента</b></font>\n",
    "    <br /> \n",
    "    <font size=\"3\", color = \"black\">\n",
    "<br />\n",
    "\n",
    "1. Ситуация, когда при увеличении глубины дерева (модель DT) метрика качества на валидации начинает снижаться, обычно называется переобучением. Это происходит, когда модель слишком подстраивается под обучающую выборку. В то же время, метрика качества на обучающей выборке, скорее всего, продолжала улучшаться или оставалась стабильной при увеличении глубины дерева. \n",
    "\n",
    "2. За счет усреднения. В модели случайного леса, голосуют множество независимых деревьев. Эта ситуация приближена к жюри на конкурсе талантов.\n",
    "\n",
    "3. Логистическая регрессия может работать с категориальными признаками, что делает ее подходящей для многих задач классификации. Поэтому, парадокса здесь нет :)\n",
    "\n",
    "4. Логистическая регрессия более простая модель, чем случайный лес и она не способна захватить сложные зависимости"
   ]
  },
  {
   "cell_type": "markdown",
   "metadata": {},
   "source": [
    "<div class=\"alert alert-success\">\n",
    "<font size=\"5\"><b>Комментарий ревьюераV2</b></font>\n",
    "\n",
    "\n",
    "Успех:\n",
    "\n",
    "\n",
    "Дополню чуть\n",
    "\n",
    "1. Верно, переобучение. На train точность растет вплоть до 100%. \n",
    "    \n",
    "    \n",
    "2. Верно, и здорово что подчёркнуто что это достигается за счёт того что деревья независимы. Каждое дерево в RF учится на своем датасете (используется техника бутстрап), таким образом достигается \"независимость\" этих самых деревьев, в итоге ошибка разброса снижается, поэтому \"усреднённое голосование\" и эффективно\n",
    "\n",
    "    \n",
    "3. \"Регрессия\", потому что внутри нее скалярное произведение (как и в линейной регрессии), дающее на выходе вещественное число (от + бесконечности до - бесконечности), на это число вешают сигмойду, логарифм и получают значение от 0 до 1 (вероятность класса).   И оказывается есть целая [статья](https://skine.ru/articles/206366/) по этому вопросу \n",
    "    \n",
    "    \n",
    "4.  А простота в том что она линейная...Логистическая регрессия плоха (и хороша с другой стороны) тем что это линейный классификатор: обьекты на классы разделяем гиперплоскостью (прямой если на плоскости), а в данном датасете видимо более сложные, нелинейные связи между признаками и таргетом.   А RF с DT с этим справляются. На других данных  LR могла оказаться лучше, например потому что RF не может экстраполировать. \n",
    "\n",
    "\n",
    "</div>"
   ]
  },
  {
   "cell_type": "markdown",
   "metadata": {},
   "source": [
    "## Проверьте модель на тестовой выборке"
   ]
  },
  {
   "cell_type": "code",
   "execution_count": 18,
   "metadata": {
    "scrolled": true
   },
   "outputs": [
    {
     "name": "stdout",
     "output_type": "stream",
     "text": [
      "Accuracy_score RandomForestClassifier: 0.7962674961119751\n",
      "Precision_score RandomForestClassifier: 0.76\n",
      "Recall_score RandomForestClassifier: 0.4846938775510204\n"
     ]
    }
   ],
   "source": [
    "predictions_test_rfc = best_model_rfc.predict(features_test)\n",
    "result_test_rfc = accuracy_score(target_test, predictions_test_rfc)\n",
    "print('Accuracy_score RandomForestClassifier:', result_test_rfc)\n",
    "precision_test = precision_score(target_test, predictions_test_rfc)\n",
    "print ('Precision_score RandomForestClassifier:', precision_test)\n",
    "recall_test = recall_score(target_test, predictions_test_rfc)\n",
    "print ('Recall_score RandomForestClassifier:', recall_test)"
   ]
  },
  {
   "cell_type": "markdown",
   "metadata": {},
   "source": [
    "<div class=\"alert alert-info\">\n",
    "<font size=\"4\", color = \"black\"><b>✍ Комментарий студента</b></font>\n",
    "    <br /> \n",
    "    <font size=\"3\", color = \"black\">\n",
    "<br /> Проверим модель на тестовой + валидационной выборке"
   ]
  },
  {
   "cell_type": "code",
   "execution_count": 19,
   "metadata": {},
   "outputs": [
    {
     "name": "stdout",
     "output_type": "stream",
     "text": [
      "Accuracy_score RandomForestClassifier: 0.8296382730455076\n",
      "Precision_score RandomForestClassifier: 0.8517034068136272\n",
      "Recall_score RandomForestClassifier: 0.5386565272496832\n"
     ]
    }
   ],
   "source": [
    "model = RandomForestClassifier(random_state=12345, n_estimators=3, max_depth=6)\n",
    "model.fit(pd.concat([features_train, features_valid]), pd.concat([target_train, target_valid]))\n",
    "predictions = model.predict(pd.concat([features_train, features_valid]))\n",
    "result = accuracy_score(pd.concat([target_train, target_valid]), predictions)\n",
    "print('Accuracy_score RandomForestClassifier:', result)\n",
    "precision_test = precision_score(pd.concat([target_train, target_valid]), predictions)\n",
    "print ('Precision_score RandomForestClassifier:', precision_test)\n",
    "recall_test = recall_score(pd.concat([target_train, target_valid]), predictions)\n",
    "print ('Recall_score RandomForestClassifier:', recall_test)"
   ]
  },
  {
   "cell_type": "markdown",
   "metadata": {},
   "source": [
    "<div class=\"alert alert-danger\">\n",
    "<font size=\"5\"><b>Комментарий ревьюераV2</b></font>\n",
    "\n",
    "\n",
    "\n",
    "Ошибка ❌:\n",
    "\n",
    "\n",
    "    n_estimators=est, max_depth=depth\n",
    "\n",
    "Нас интересует лучшие значения гиперпараметров а не последние в списке"
   ]
  },
  {
   "cell_type": "markdown",
   "metadata": {},
   "source": [
    "<div class=\"alert alert-info\">\n",
    "<font size=\"4\", color = \"black\"><b>✍ Комментарий студента V2</b></font>\n",
    "    <br /> \n",
    "    <font size=\"3\", color = \"black\">\n",
    "<br /> Исправил"
   ]
  },
  {
   "cell_type": "markdown",
   "metadata": {},
   "source": [
    "<div class=\"alert alert-success\">\n",
    "<font size=\"5\"><b>Комментарий ревьюераV3</b></font>\n",
    "\n",
    "\n",
    "\n",
    "Успех 👍:\n",
    "\n",
    "\n",
    "\n",
    "👍\n",
    "\n",
    "\n",
    "Здорово поднял метрику\n"
   ]
  },
  {
   "cell_type": "markdown",
   "metadata": {},
   "source": [
    "Вывод: Accuracy_score лучшей модели RandomForestClassifier, с гиперпараметрами количество деревьев = 3, максимальная глубина = 6 на тестовой выборке состовляет 0.796. Доля правильных ответов проходит по критериям постановки задачи."
   ]
  },
  {
   "cell_type": "markdown",
   "metadata": {},
   "source": [
    "Вывод: Accuracy_score лучшей модели RandomForestClassifier, с гиперпараметрами количество деревьев = 3, максимальная глубина = 6 на тестовой + валидационной выборке состовляет 0.83. Precision_score = 0.851. Recall_score = 0.539.\n",
    "Доля правильных ответов проходит по критериям постановки задачи."
   ]
  },
  {
   "cell_type": "markdown",
   "metadata": {},
   "source": [
    "\n",
    "<div class=\"alert alert-success\">\n",
    "<font size=\"5\"><b>Комментарий ревьюера</b></font>\n",
    "\n",
    "Успех:\n",
    "\n",
    "\n",
    "- Все верно, логика моделирования не нарушена, тут тестируем только лучшую модель (или парочку, если метрики были близки) отобранную на валидации. \n",
    "\n",
    "- Если студент получил на тесте accuraсy  выше 0,78, это считается отличным результатом. Ты подбираешь лучшую комбинацию не по одному гиперпараметру и вот он результат!\n",
    "\n",
    "- Здорово что использовал дополнительные метрики\n",
    "\n",
    "<div class=\"alert alert-warning\">\n",
    "\n",
    "Вопросики и совет:\n",
    "\n",
    "\n",
    "\n",
    "\n",
    "- Как попробовать улучшить результат, не мучаясь с кодом?! Смотри - мы сформировали train выборку на которой обучаем модель, а валидационную используем для поиска лучших значений гиперпараметров. Оке, нашли их. Так почему бы теперь модель с выбранными гиперпараметрами не обучить на тренировочной + валидационной выборке (только не нужно делать новые сплиты, используй pd.concat(), к примеру)?! Чем больше данных, тем лучше модель может обучиться. И эту дообученную модель проверим на тесте. Гаранитий что станет лучше нет, но ML это постоянные эксперименты.  \n",
    "    \n",
    "    \n",
    "- А можешь предложить как нам использовать полученный результат в бизнесе? Как нам на этих прогнозах сделать деньги? \n",
    "\n"
   ]
  },
  {
   "cell_type": "markdown",
   "metadata": {},
   "source": [
    "<div class=\"alert alert-info\">\n",
    "<font size=\"4\", color = \"black\"><b>✍ Комментарий студента</b></font>\n",
    "    <br /> \n",
    "    <font size=\"3\", color = \"black\">\n",
    "<br /> Проведено исследование с целью предложить пользователям новый тариф «Смарт» или «Ультра» на основании их поведения. Входные данные – данные о поведении клиентов, которые уже перешли на эти тарифы.Результат исследования - модель, которая выберет подходящий тариф, который будет радовать клиентов и приносить деньги компании"
   ]
  },
  {
   "cell_type": "markdown",
   "metadata": {},
   "source": [
    "<div class=\"alert alert-success\">\n",
    "<font size=\"5\"><b>Комментарий ревьюераV2</b></font>\n",
    "\n",
    "Успех:\n",
    "    \n",
    "Но как она будет приносить деньги? Ну во-первых да, довольный клиент это к деньгам ) Я вижу практическую пользу от прогнозов модели еще и таким образом. Допустим какой-то тариф более выгоден компании, тогда мы можем предложить перейти на него клиентам, но не всем, а тем, кому данный тариф подходит (на основе прогноза модели). Таким образом мы сэкономим время и деньги, ведь просто предлагать переходить всем это лишние траты (не говоря о клиентах, которые уходят, если слишком назойливо им что-то предлагать, что для них явно не подходит). \n"
   ]
  },
  {
   "cell_type": "markdown",
   "metadata": {},
   "source": [
    "## (бонус) Проверьте модели на адекватность"
   ]
  },
  {
   "cell_type": "code",
   "execution_count": 20,
   "metadata": {},
   "outputs": [
    {
     "name": "stdout",
     "output_type": "stream",
     "text": [
      "Accuracy_score DummyClassifier: 0.6951788491446346\n"
     ]
    }
   ],
   "source": [
    "model_dc = DummyClassifier(strategy='most_frequent', random_state=12345)\n",
    "model_dc.fit(features_train, target_train)\n",
    "result_dc = model_dc.score(features_test, target_test)\n",
    "print('Accuracy_score DummyClassifier:', result_dc)"
   ]
  },
  {
   "cell_type": "markdown",
   "metadata": {},
   "source": [
    "Accuracy_score DummyClassifier = 0.684. Так как DummyClassifier - это простейший классификатор, который использует наиболее часто встречающийся класс в обучающем наборе данных для всех предсказаний, этот результат может служить базовым уровнем, с которым мы сравниваем Accuracy_score RandomForestClassifier. Accuracy_score для RandomForestClassifier показывает значение больше, что может говорить о том, что модель RandomForestClassifier адекватна."
   ]
  },
  {
   "cell_type": "markdown",
   "metadata": {},
   "source": [
    "<div class=\"alert alert-success\">\n",
    "<font size=\"5\"><b>Комментарий ревьюера</b></font>\n",
    "\n",
    "Успех:\n",
    "\n",
    "Все верно. \n",
    "\n",
    "👍 что используешь специальную обертку для проверки на адекватность\n",
    "\n"
   ]
  },
  {
   "cell_type": "markdown",
   "metadata": {},
   "source": [
    "# Общий вывод\n",
    "Проведено исследование различных моделей: DecisionTreeClassifier, RandomForestClassifier, LogisticRegression с различными значениями гиперпараметров. Наилучший результат по Accuracy_score показала модель RandomForestClassifier, с параметрами - количество деревьев = 8, максимальная глубина = 8. Accuracy_score такой модели на тестовой выборке = 0.796 > 0.75. Так же Accuracy_score RandomForestClassifier больше чем Accuracy_score DummyClassifier, что говорит об адекватности модели. \n",
    "\n",
    "Итак, на основе модели DecisionTreeClassifier с параметрами количество деревьев = 8, максимальная глубина = 8, можно проанализировать поведение клиентов и предложить пользователям новый тариф: «Смарт» или «Ультра»"
   ]
  },
  {
   "cell_type": "markdown",
   "metadata": {},
   "source": [
    "\n",
    "<div class=\"alert alert-info\">\n",
    "<font size=\"5\"><b>Комментарий ревьюера</b></font>\n",
    "\n",
    "\n",
    "\n",
    "\n",
    "Кирилл, у тебя старательно выполненная работа, все четко, осмысленно. Выводы присутствуют\n",
    "    \n",
    "    \n",
    "    \n",
    "\n",
    "Я оставил небольшие советы и вопросики (если есть время и желание можешь воспользоваться/ответить): \n",
    "\n",
    "\n",
    "\n",
    "\n",
    "- обрати внимание на проверку сбалансированность классов в таргете в разделе EDA\n",
    "- использовать stratify\n",
    "- добавить график метрики    \n",
    "- как можно улучшить результаты \n",
    "\n",
    "\n",
    "    \n",
    "\n",
    "\n",
    "Замечания на будущее:\n",
    "    \n",
    "\n",
    "- Комментарии к коду отсутствуют - коллеги могут не понять хода твоих мыслей, пока вроде код простой, но стоит держать в голове что дальше код усложнится.  \n",
    "\n",
    " \n",
    "    \n",
    "    \n",
    "Жду исправлений, для принятия проекта. Если какие то вопросы, то сразу спрашивай ) \n",
    "\n",
    "\n",
    "\n",
    "\n",
    "\n",
    "</div>"
   ]
  },
  {
   "cell_type": "markdown",
   "metadata": {},
   "source": [
    "\n",
    "<div class=\"alert alert-info\">\n",
    "<font size=\"5\"><b>Комментарий ревьюераV2</b></font>\n",
    "\n",
    "Спасибо за работу!    \n",
    "\n",
    "    \n",
    "После первой операции ошибок не было, сейчас они появились\n",
    "    \n",
    "    \n",
    "- Ошибка исполнения кода\n",
    "    \n",
    "    \n",
    "- При дообучение использовал модель не с лучшими гиперпараметрами    "
   ]
  },
  {
   "cell_type": "markdown",
   "metadata": {},
   "source": [
    "\n",
    "<div class=\"alert alert-info\">\n",
    "<font size=\"5\"><b>Комментарий ревьюераV3</b></font>\n",
    "\n",
    "Спасибо за работу!    \n",
    "\n",
    "    \n",
    "Красное исправлено, многие желтые советы использованы, на  вопросы есть ответы  (это все было по желанию), значит стремишься развиваться, а желание и интерес это главное. Надеюсь мои советы и вопросики были полезны и в копилочку знаний упало что то новое, а проект стал лучше, и симпатичней.\n",
    "\n",
    "\n",
    "Отличная работа Кирилл. Желаю успехов в дальнейшей учебе!\n",
    "\n",
    "\n",
    "</div>"
   ]
  },
  {
   "cell_type": "markdown",
   "metadata": {},
   "source": [
    "## Чек-лист готовности проекта"
   ]
  },
  {
   "cell_type": "markdown",
   "metadata": {},
   "source": [
    "Поставьте 'x' в выполненных пунктах. Далее нажмите Shift+Enter."
   ]
  },
  {
   "cell_type": "markdown",
   "metadata": {},
   "source": [
    "- [x] Jupyter Notebook открыт\n",
    "- [x] Весь код исполняется без ошибок\n",
    "- [x] Ячейки с кодом расположены в порядке исполнения\n",
    "- [x] Выполнено задание 1: данные загружены и изучены\n",
    "- [x] Выполнено задание 2: данные разбиты на три выборки\n",
    "- [x] Выполнено задание 3: проведено исследование моделей\n",
    "    - [x] Рассмотрено больше одной модели\n",
    "    - [x] Рассмотрено хотя бы 3 значения гипепараметров для какой-нибудь модели\n",
    "    - [x] Написаны выводы по результатам исследования\n",
    "- [x] Выполнено задание 3: Проведено тестирование\n",
    "- [x] Удалось достичь accuracy не меньше 0.75\n"
   ]
  }
 ],
 "metadata": {
  "ExecuteTimeLog": [
   {
    "duration": 387,
    "start_time": "2023-09-22T08:19:52.620Z"
   },
   {
    "duration": 121,
    "start_time": "2023-09-22T08:20:26.569Z"
   },
   {
    "duration": 12,
    "start_time": "2023-09-22T08:20:41.532Z"
   },
   {
    "duration": 16,
    "start_time": "2023-09-22T08:20:50.216Z"
   },
   {
    "duration": 12,
    "start_time": "2023-09-22T08:20:56.399Z"
   },
   {
    "duration": 9,
    "start_time": "2023-09-22T08:21:02.106Z"
   },
   {
    "duration": 9,
    "start_time": "2023-09-22T08:21:44.417Z"
   },
   {
    "duration": 58,
    "start_time": "2023-09-22T11:51:45.583Z"
   },
   {
    "duration": 3,
    "start_time": "2023-09-22T11:52:00.983Z"
   },
   {
    "duration": 96,
    "start_time": "2023-09-22T11:52:00.989Z"
   },
   {
    "duration": 9,
    "start_time": "2023-09-22T11:52:01.087Z"
   },
   {
    "duration": 56,
    "start_time": "2023-09-22T11:52:01.098Z"
   },
   {
    "duration": 45,
    "start_time": "2023-09-22T11:52:01.157Z"
   },
   {
    "duration": 428,
    "start_time": "2023-09-22T11:52:10.562Z"
   },
   {
    "duration": 31,
    "start_time": "2023-09-22T11:52:10.991Z"
   },
   {
    "duration": 15,
    "start_time": "2023-09-22T11:52:11.023Z"
   },
   {
    "duration": 34,
    "start_time": "2023-09-22T11:52:11.039Z"
   },
   {
    "duration": 4,
    "start_time": "2023-09-22T11:52:11.074Z"
   },
   {
    "duration": 7,
    "start_time": "2023-09-22T11:55:51.872Z"
   },
   {
    "duration": 6,
    "start_time": "2023-09-22T12:10:59.067Z"
   },
   {
    "duration": 96,
    "start_time": "2023-09-22T12:15:22.900Z"
   },
   {
    "duration": 64,
    "start_time": "2023-09-22T12:15:28.891Z"
   },
   {
    "duration": 745,
    "start_time": "2023-09-22T12:15:43.143Z"
   },
   {
    "duration": 6,
    "start_time": "2023-09-22T12:15:47.786Z"
   },
   {
    "duration": 8,
    "start_time": "2023-09-22T12:17:32.167Z"
   },
   {
    "duration": 6,
    "start_time": "2023-09-22T12:17:33.874Z"
   },
   {
    "duration": 5,
    "start_time": "2023-09-22T12:20:09.227Z"
   },
   {
    "duration": 7,
    "start_time": "2023-09-22T12:20:28.057Z"
   },
   {
    "duration": 5,
    "start_time": "2023-09-22T12:20:31.415Z"
   },
   {
    "duration": 140,
    "start_time": "2023-09-22T12:23:27.703Z"
   },
   {
    "duration": 411,
    "start_time": "2023-09-22T12:23:38.930Z"
   },
   {
    "duration": 4,
    "start_time": "2023-09-22T12:23:45.600Z"
   },
   {
    "duration": 4,
    "start_time": "2023-09-22T12:24:09.401Z"
   },
   {
    "duration": 4,
    "start_time": "2023-09-22T12:26:00.515Z"
   },
   {
    "duration": 66,
    "start_time": "2023-09-22T12:26:24.462Z"
   },
   {
    "duration": 77,
    "start_time": "2023-09-22T12:26:56.965Z"
   },
   {
    "duration": 4,
    "start_time": "2023-09-22T12:27:02.219Z"
   },
   {
    "duration": 4,
    "start_time": "2023-09-22T12:27:13.204Z"
   },
   {
    "duration": 5,
    "start_time": "2023-09-22T12:27:38.641Z"
   },
   {
    "duration": 98,
    "start_time": "2023-09-22T12:27:54.417Z"
   },
   {
    "duration": 3,
    "start_time": "2023-09-22T12:27:59.175Z"
   },
   {
    "duration": 7,
    "start_time": "2023-09-22T12:28:29.043Z"
   },
   {
    "duration": 6,
    "start_time": "2023-09-22T12:29:00.225Z"
   },
   {
    "duration": 93,
    "start_time": "2023-09-22T12:32:09.540Z"
   },
   {
    "duration": 9,
    "start_time": "2023-09-22T12:35:01.341Z"
   },
   {
    "duration": 467,
    "start_time": "2023-09-22T12:35:16.395Z"
   },
   {
    "duration": 33,
    "start_time": "2023-09-22T12:35:19.446Z"
   },
   {
    "duration": 55,
    "start_time": "2023-09-22T12:36:41.041Z"
   },
   {
    "duration": 55,
    "start_time": "2023-09-22T12:39:27.326Z"
   },
   {
    "duration": 4,
    "start_time": "2023-09-22T12:42:09.534Z"
   },
   {
    "duration": 67,
    "start_time": "2023-09-22T12:43:05.957Z"
   },
   {
    "duration": 3,
    "start_time": "2023-09-22T12:43:07.858Z"
   },
   {
    "duration": 27,
    "start_time": "2023-09-22T12:49:05.813Z"
   },
   {
    "duration": 4,
    "start_time": "2023-09-22T12:49:26.517Z"
   },
   {
    "duration": 141,
    "start_time": "2023-09-22T12:49:30.593Z"
   },
   {
    "duration": 547,
    "start_time": "2023-09-22T12:50:45.481Z"
   },
   {
    "duration": 16,
    "start_time": "2023-09-22T12:52:26.920Z"
   },
   {
    "duration": 45,
    "start_time": "2023-09-22T12:52:33.662Z"
   },
   {
    "duration": 48,
    "start_time": "2023-09-22T12:53:15.225Z"
   },
   {
    "duration": 3583,
    "start_time": "2023-09-22T12:53:21.851Z"
   },
   {
    "duration": 515,
    "start_time": "2023-09-22T12:54:09.666Z"
   },
   {
    "duration": 10,
    "start_time": "2023-09-22T12:56:31.007Z"
   },
   {
    "duration": 29,
    "start_time": "2023-09-22T12:56:49.464Z"
   },
   {
    "duration": 4,
    "start_time": "2023-09-22T12:57:15.165Z"
   },
   {
    "duration": 28,
    "start_time": "2023-09-22T12:57:19.464Z"
   },
   {
    "duration": 3641,
    "start_time": "2023-09-22T12:57:34.165Z"
   },
   {
    "duration": 3850,
    "start_time": "2023-09-22T12:57:54.116Z"
   },
   {
    "duration": 70,
    "start_time": "2023-09-22T12:58:48.056Z"
   },
   {
    "duration": 4,
    "start_time": "2023-09-22T12:58:54.016Z"
   },
   {
    "duration": 508,
    "start_time": "2023-09-22T12:58:56.828Z"
   },
   {
    "duration": 1650,
    "start_time": "2023-09-22T12:59:14.705Z"
   },
   {
    "duration": 1705,
    "start_time": "2023-09-22T13:03:19.047Z"
   },
   {
    "duration": 1733,
    "start_time": "2023-09-22T13:04:04.367Z"
   },
   {
    "duration": 68,
    "start_time": "2023-09-22T13:05:39.506Z"
   },
   {
    "duration": 68,
    "start_time": "2023-09-22T13:06:08.961Z"
   },
   {
    "duration": 4,
    "start_time": "2023-09-22T13:06:14.229Z"
   },
   {
    "duration": 572,
    "start_time": "2023-09-22T13:06:16.233Z"
   },
   {
    "duration": 2645,
    "start_time": "2023-09-22T13:07:08.672Z"
   },
   {
    "duration": 1736,
    "start_time": "2023-09-22T13:07:23.330Z"
   },
   {
    "duration": 1728,
    "start_time": "2023-09-22T13:07:48.535Z"
   },
   {
    "duration": 1736,
    "start_time": "2023-09-22T13:08:01.035Z"
   },
   {
    "duration": 1688,
    "start_time": "2023-09-22T13:10:00.382Z"
   },
   {
    "duration": 1634,
    "start_time": "2023-09-22T13:12:38.501Z"
   },
   {
    "duration": 1591,
    "start_time": "2023-09-22T13:12:51.576Z"
   },
   {
    "duration": 1603,
    "start_time": "2023-09-22T13:13:04.533Z"
   },
   {
    "duration": 1632,
    "start_time": "2023-09-22T13:14:44.299Z"
   },
   {
    "duration": 63,
    "start_time": "2023-09-22T13:15:20.480Z"
   },
   {
    "duration": 65,
    "start_time": "2023-09-22T13:16:05.739Z"
   },
   {
    "duration": 61,
    "start_time": "2023-09-22T13:16:31.570Z"
   },
   {
    "duration": 60,
    "start_time": "2023-09-22T13:16:57.229Z"
   },
   {
    "duration": 62,
    "start_time": "2023-09-22T13:17:16.589Z"
   },
   {
    "duration": 3,
    "start_time": "2023-09-22T13:17:18.946Z"
   },
   {
    "duration": 63,
    "start_time": "2023-09-22T13:18:19.269Z"
   },
   {
    "duration": 61,
    "start_time": "2023-09-22T13:19:23.975Z"
   },
   {
    "duration": 63,
    "start_time": "2023-09-22T13:19:51.688Z"
   },
   {
    "duration": 63,
    "start_time": "2023-09-22T13:20:55.456Z"
   },
   {
    "duration": 9,
    "start_time": "2023-09-22T13:22:34.831Z"
   },
   {
    "duration": 17,
    "start_time": "2023-09-22T13:22:54.225Z"
   },
   {
    "duration": 1322,
    "start_time": "2023-09-22T13:23:20.796Z"
   },
   {
    "duration": 31,
    "start_time": "2023-09-22T13:23:22.119Z"
   },
   {
    "duration": 13,
    "start_time": "2023-09-22T13:23:22.151Z"
   },
   {
    "duration": 27,
    "start_time": "2023-09-22T13:23:22.166Z"
   },
   {
    "duration": 5,
    "start_time": "2023-09-22T13:23:22.195Z"
   },
   {
    "duration": 10,
    "start_time": "2023-09-22T13:23:22.201Z"
   },
   {
    "duration": 13,
    "start_time": "2023-09-22T13:23:22.212Z"
   },
   {
    "duration": 20,
    "start_time": "2023-09-22T13:23:22.226Z"
   },
   {
    "duration": 12,
    "start_time": "2023-09-22T13:23:22.248Z"
   },
   {
    "duration": 43,
    "start_time": "2023-09-22T13:23:22.261Z"
   },
   {
    "duration": 116,
    "start_time": "2023-09-22T13:23:22.305Z"
   },
   {
    "duration": 0,
    "start_time": "2023-09-22T13:23:22.422Z"
   },
   {
    "duration": 0,
    "start_time": "2023-09-22T13:23:22.423Z"
   },
   {
    "duration": 61,
    "start_time": "2023-09-22T13:23:45.367Z"
   },
   {
    "duration": 17,
    "start_time": "2023-09-22T13:23:56.559Z"
   },
   {
    "duration": 509,
    "start_time": "2023-09-22T13:24:09.883Z"
   },
   {
    "duration": 1531,
    "start_time": "2023-09-22T13:24:47.234Z"
   },
   {
    "duration": 70,
    "start_time": "2023-09-23T21:10:53.415Z"
   },
   {
    "duration": 1980,
    "start_time": "2023-09-23T21:11:17.928Z"
   },
   {
    "duration": 1583,
    "start_time": "2023-09-23T21:11:32.286Z"
   },
   {
    "duration": 72,
    "start_time": "2023-09-23T21:11:33.877Z"
   },
   {
    "duration": 28,
    "start_time": "2023-09-23T21:11:33.950Z"
   },
   {
    "duration": 18,
    "start_time": "2023-09-23T21:11:33.980Z"
   },
   {
    "duration": 32,
    "start_time": "2023-09-23T21:11:34.002Z"
   },
   {
    "duration": 15,
    "start_time": "2023-09-23T21:11:34.037Z"
   },
   {
    "duration": 16,
    "start_time": "2023-09-23T21:11:34.054Z"
   },
   {
    "duration": 28,
    "start_time": "2023-09-23T21:11:34.076Z"
   },
   {
    "duration": 18,
    "start_time": "2023-09-23T21:11:34.105Z"
   },
   {
    "duration": 21,
    "start_time": "2023-09-23T21:11:34.125Z"
   },
   {
    "duration": 86,
    "start_time": "2023-09-23T21:11:34.147Z"
   },
   {
    "duration": 1886,
    "start_time": "2023-09-23T21:11:34.235Z"
   },
   {
    "duration": 161,
    "start_time": "2023-09-23T21:11:36.123Z"
   },
   {
    "duration": 39,
    "start_time": "2023-09-23T21:12:03.349Z"
   },
   {
    "duration": 33,
    "start_time": "2023-09-23T21:13:26.895Z"
   },
   {
    "duration": 34,
    "start_time": "2023-09-23T21:13:31.988Z"
   },
   {
    "duration": 26,
    "start_time": "2023-09-23T21:16:49.707Z"
   },
   {
    "duration": 33,
    "start_time": "2023-09-23T21:17:04.555Z"
   },
   {
    "duration": 40,
    "start_time": "2023-09-23T21:17:08.081Z"
   },
   {
    "duration": 28,
    "start_time": "2023-09-23T21:17:11.871Z"
   },
   {
    "duration": 26,
    "start_time": "2023-09-23T21:17:55.974Z"
   },
   {
    "duration": 1564,
    "start_time": "2023-09-23T21:19:58.697Z"
   },
   {
    "duration": 40,
    "start_time": "2023-09-23T21:20:00.267Z"
   },
   {
    "duration": 16,
    "start_time": "2023-09-23T21:20:00.310Z"
   },
   {
    "duration": 59,
    "start_time": "2023-09-23T21:20:00.328Z"
   },
   {
    "duration": 32,
    "start_time": "2023-09-23T21:20:00.390Z"
   },
   {
    "duration": 165,
    "start_time": "2023-09-23T21:20:00.424Z"
   },
   {
    "duration": 43,
    "start_time": "2023-09-23T21:20:00.592Z"
   },
   {
    "duration": 49,
    "start_time": "2023-09-23T21:20:00.637Z"
   },
   {
    "duration": 57,
    "start_time": "2023-09-23T21:20:00.689Z"
   },
   {
    "duration": 42,
    "start_time": "2023-09-23T21:20:00.748Z"
   },
   {
    "duration": 127,
    "start_time": "2023-09-23T21:20:00.792Z"
   },
   {
    "duration": 2048,
    "start_time": "2023-09-23T21:20:00.920Z"
   },
   {
    "duration": 28,
    "start_time": "2023-09-23T21:20:02.977Z"
   },
   {
    "duration": 12,
    "start_time": "2023-09-23T21:31:53.583Z"
   },
   {
    "duration": 45,
    "start_time": "2023-09-24T12:32:45.145Z"
   },
   {
    "duration": 1510,
    "start_time": "2023-09-24T12:32:50.141Z"
   },
   {
    "duration": 66,
    "start_time": "2023-09-24T12:32:51.653Z"
   },
   {
    "duration": 13,
    "start_time": "2023-09-24T12:32:51.721Z"
   },
   {
    "duration": 14,
    "start_time": "2023-09-24T12:32:51.736Z"
   },
   {
    "duration": 23,
    "start_time": "2023-09-24T12:32:51.751Z"
   },
   {
    "duration": 14,
    "start_time": "2023-09-24T12:32:51.776Z"
   },
   {
    "duration": 6,
    "start_time": "2023-09-24T12:32:51.791Z"
   },
   {
    "duration": 10,
    "start_time": "2023-09-24T12:32:51.799Z"
   },
   {
    "duration": 20,
    "start_time": "2023-09-24T12:32:51.810Z"
   },
   {
    "duration": 11,
    "start_time": "2023-09-24T12:32:51.833Z"
   },
   {
    "duration": 80,
    "start_time": "2023-09-24T12:32:51.845Z"
   },
   {
    "duration": 1551,
    "start_time": "2023-09-24T12:32:51.927Z"
   },
   {
    "duration": 24,
    "start_time": "2023-09-24T12:32:53.480Z"
   },
   {
    "duration": 7,
    "start_time": "2023-09-24T12:32:53.506Z"
   },
   {
    "duration": 49,
    "start_time": "2023-09-24T14:20:50.979Z"
   },
   {
    "duration": 1583,
    "start_time": "2023-09-24T14:20:58.974Z"
   },
   {
    "duration": 117,
    "start_time": "2023-09-24T14:21:00.560Z"
   },
   {
    "duration": 15,
    "start_time": "2023-09-24T14:21:00.679Z"
   },
   {
    "duration": 62,
    "start_time": "2023-09-24T14:21:00.696Z"
   },
   {
    "duration": 33,
    "start_time": "2023-09-24T14:21:00.761Z"
   },
   {
    "duration": 66,
    "start_time": "2023-09-24T14:21:00.796Z"
   },
   {
    "duration": 34,
    "start_time": "2023-09-24T14:21:00.864Z"
   },
   {
    "duration": 58,
    "start_time": "2023-09-24T14:21:00.900Z"
   },
   {
    "duration": 37,
    "start_time": "2023-09-24T14:21:00.959Z"
   },
   {
    "duration": 31,
    "start_time": "2023-09-24T14:21:00.998Z"
   },
   {
    "duration": 103,
    "start_time": "2023-09-24T14:21:01.031Z"
   },
   {
    "duration": 1825,
    "start_time": "2023-09-24T14:21:01.136Z"
   },
   {
    "duration": 29,
    "start_time": "2023-09-24T14:21:02.964Z"
   },
   {
    "duration": 125,
    "start_time": "2023-09-24T14:21:02.995Z"
   },
   {
    "duration": 4,
    "start_time": "2023-09-24T14:26:25.458Z"
   },
   {
    "duration": 9,
    "start_time": "2023-09-24T14:26:29.018Z"
   },
   {
    "duration": 1177,
    "start_time": "2023-09-24T14:28:26.342Z"
   },
   {
    "duration": 30,
    "start_time": "2023-09-24T14:28:27.521Z"
   },
   {
    "duration": 16,
    "start_time": "2023-09-24T14:28:27.553Z"
   },
   {
    "duration": 20,
    "start_time": "2023-09-24T14:28:27.570Z"
   },
   {
    "duration": 16,
    "start_time": "2023-09-24T14:28:27.592Z"
   },
   {
    "duration": 7,
    "start_time": "2023-09-24T14:28:27.610Z"
   },
   {
    "duration": 8,
    "start_time": "2023-09-24T14:28:27.618Z"
   },
   {
    "duration": 13,
    "start_time": "2023-09-24T14:28:27.627Z"
   },
   {
    "duration": 17,
    "start_time": "2023-09-24T14:28:27.642Z"
   },
   {
    "duration": 7,
    "start_time": "2023-09-24T14:28:27.660Z"
   },
   {
    "duration": 72,
    "start_time": "2023-09-24T14:28:27.668Z"
   },
   {
    "duration": 1741,
    "start_time": "2023-09-24T14:28:27.741Z"
   },
   {
    "duration": 27,
    "start_time": "2023-09-24T14:28:29.484Z"
   },
   {
    "duration": 12,
    "start_time": "2023-09-24T14:28:29.513Z"
   },
   {
    "duration": 11,
    "start_time": "2023-09-24T14:29:40.570Z"
   },
   {
    "duration": 13,
    "start_time": "2023-09-24T14:31:31.539Z"
   },
   {
    "duration": 5,
    "start_time": "2023-09-24T14:40:44.165Z"
   },
   {
    "duration": 6,
    "start_time": "2023-09-24T14:45:24.208Z"
   },
   {
    "duration": 1159,
    "start_time": "2023-09-24T14:58:12.448Z"
   },
   {
    "duration": 30,
    "start_time": "2023-09-24T14:58:13.609Z"
   },
   {
    "duration": 16,
    "start_time": "2023-09-24T14:58:13.641Z"
   },
   {
    "duration": 10,
    "start_time": "2023-09-24T14:58:13.658Z"
   },
   {
    "duration": 5,
    "start_time": "2023-09-24T14:58:13.671Z"
   },
   {
    "duration": 6,
    "start_time": "2023-09-24T14:58:13.678Z"
   },
   {
    "duration": 5,
    "start_time": "2023-09-24T14:58:13.687Z"
   },
   {
    "duration": 10,
    "start_time": "2023-09-24T14:58:13.694Z"
   },
   {
    "duration": 6,
    "start_time": "2023-09-24T14:58:13.706Z"
   },
   {
    "duration": 16,
    "start_time": "2023-09-24T14:58:13.713Z"
   },
   {
    "duration": 101,
    "start_time": "2023-09-24T14:58:13.730Z"
   },
   {
    "duration": 1823,
    "start_time": "2023-09-24T14:58:13.833Z"
   },
   {
    "duration": 28,
    "start_time": "2023-09-24T14:58:15.658Z"
   },
   {
    "duration": 11,
    "start_time": "2023-09-24T14:58:15.689Z"
   },
   {
    "duration": 10,
    "start_time": "2023-09-24T14:58:15.701Z"
   },
   {
    "duration": 3011,
    "start_time": "2023-09-25T09:05:49.711Z"
   },
   {
    "duration": 30,
    "start_time": "2023-09-25T09:05:52.724Z"
   },
   {
    "duration": 16,
    "start_time": "2023-09-25T09:05:52.756Z"
   },
   {
    "duration": 23,
    "start_time": "2023-09-25T09:05:52.774Z"
   },
   {
    "duration": 16,
    "start_time": "2023-09-25T09:05:52.798Z"
   },
   {
    "duration": 48,
    "start_time": "2023-09-25T09:05:52.815Z"
   },
   {
    "duration": 10,
    "start_time": "2023-09-25T09:05:52.864Z"
   },
   {
    "duration": 28,
    "start_time": "2023-09-25T09:05:52.876Z"
   },
   {
    "duration": 105,
    "start_time": "2023-09-25T09:05:52.905Z"
   },
   {
    "duration": 51,
    "start_time": "2023-09-25T09:05:53.012Z"
   },
   {
    "duration": 89,
    "start_time": "2023-09-25T09:05:53.064Z"
   },
   {
    "duration": 1695,
    "start_time": "2023-09-25T09:05:53.155Z"
   },
   {
    "duration": 26,
    "start_time": "2023-09-25T09:05:54.851Z"
   },
   {
    "duration": 12,
    "start_time": "2023-09-25T09:05:54.879Z"
   },
   {
    "duration": 11,
    "start_time": "2023-09-25T09:05:54.894Z"
   },
   {
    "duration": 2737,
    "start_time": "2023-09-25T09:06:01.557Z"
   },
   {
    "duration": 30,
    "start_time": "2023-09-25T09:06:04.296Z"
   },
   {
    "duration": 21,
    "start_time": "2023-09-25T09:06:04.328Z"
   },
   {
    "duration": 21,
    "start_time": "2023-09-25T09:06:04.351Z"
   },
   {
    "duration": 17,
    "start_time": "2023-09-25T09:06:04.375Z"
   },
   {
    "duration": 18,
    "start_time": "2023-09-25T09:06:04.394Z"
   },
   {
    "duration": 18,
    "start_time": "2023-09-25T09:06:04.414Z"
   },
   {
    "duration": 25,
    "start_time": "2023-09-25T09:06:04.433Z"
   },
   {
    "duration": 11,
    "start_time": "2023-09-25T09:06:04.460Z"
   },
   {
    "duration": 22,
    "start_time": "2023-09-25T09:06:04.473Z"
   },
   {
    "duration": 90,
    "start_time": "2023-09-25T09:06:04.496Z"
   },
   {
    "duration": 1753,
    "start_time": "2023-09-25T09:06:04.588Z"
   },
   {
    "duration": 30,
    "start_time": "2023-09-25T09:06:06.344Z"
   },
   {
    "duration": 18,
    "start_time": "2023-09-25T09:06:06.376Z"
   },
   {
    "duration": 24,
    "start_time": "2023-09-25T09:06:06.396Z"
   },
   {
    "duration": 1212,
    "start_time": "2023-09-25T09:43:54.708Z"
   },
   {
    "duration": 107,
    "start_time": "2023-09-25T09:45:26.346Z"
   },
   {
    "duration": 1191,
    "start_time": "2023-09-25T09:45:33.558Z"
   },
   {
    "duration": 131,
    "start_time": "2023-09-25T09:45:34.751Z"
   },
   {
    "duration": 23,
    "start_time": "2023-09-25T09:45:34.887Z"
   },
   {
    "duration": 11,
    "start_time": "2023-09-25T09:45:34.912Z"
   },
   {
    "duration": 5,
    "start_time": "2023-09-25T09:45:34.926Z"
   },
   {
    "duration": 13,
    "start_time": "2023-09-25T09:45:34.933Z"
   },
   {
    "duration": 7,
    "start_time": "2023-09-25T09:45:34.947Z"
   },
   {
    "duration": 7,
    "start_time": "2023-09-25T09:45:34.955Z"
   },
   {
    "duration": 6,
    "start_time": "2023-09-25T09:45:34.986Z"
   },
   {
    "duration": 7,
    "start_time": "2023-09-25T09:45:34.995Z"
   },
   {
    "duration": 94,
    "start_time": "2023-09-25T09:45:35.004Z"
   },
   {
    "duration": 1954,
    "start_time": "2023-09-25T09:45:35.102Z"
   },
   {
    "duration": 40,
    "start_time": "2023-09-25T09:45:37.058Z"
   },
   {
    "duration": 12,
    "start_time": "2023-09-25T09:45:37.105Z"
   },
   {
    "duration": 31,
    "start_time": "2023-09-25T09:45:37.119Z"
   },
   {
    "duration": 9,
    "start_time": "2023-09-25T09:45:45.806Z"
   },
   {
    "duration": 22,
    "start_time": "2023-09-25T09:46:06.204Z"
   },
   {
    "duration": 85,
    "start_time": "2023-09-25T09:46:46.524Z"
   },
   {
    "duration": 80,
    "start_time": "2023-09-25T09:48:22.288Z"
   },
   {
    "duration": 4,
    "start_time": "2023-09-25T09:51:53.576Z"
   },
   {
    "duration": 5,
    "start_time": "2023-09-25T09:52:02.898Z"
   },
   {
    "duration": 4,
    "start_time": "2023-09-25T09:52:09.271Z"
   },
   {
    "duration": 91,
    "start_time": "2023-09-25T09:54:16.836Z"
   },
   {
    "duration": 4,
    "start_time": "2023-09-25T09:54:20.833Z"
   },
   {
    "duration": 3,
    "start_time": "2023-09-25T09:54:26.402Z"
   },
   {
    "duration": 4,
    "start_time": "2023-09-25T09:54:55.437Z"
   },
   {
    "duration": 369,
    "start_time": "2023-09-25T09:55:30.673Z"
   },
   {
    "duration": 128,
    "start_time": "2023-09-25T09:58:48.308Z"
   },
   {
    "duration": 475,
    "start_time": "2023-09-25T09:59:09.058Z"
   },
   {
    "duration": 1696,
    "start_time": "2023-09-25T09:59:15.142Z"
   },
   {
    "duration": 33,
    "start_time": "2023-09-25T09:59:16.841Z"
   },
   {
    "duration": 24,
    "start_time": "2023-09-25T09:59:16.877Z"
   },
   {
    "duration": 15,
    "start_time": "2023-09-25T09:59:16.903Z"
   },
   {
    "duration": 50,
    "start_time": "2023-09-25T09:59:16.921Z"
   },
   {
    "duration": 6,
    "start_time": "2023-09-25T09:59:16.973Z"
   },
   {
    "duration": 47,
    "start_time": "2023-09-25T09:59:16.988Z"
   },
   {
    "duration": 285,
    "start_time": "2023-09-25T09:59:17.037Z"
   },
   {
    "duration": 0,
    "start_time": "2023-09-25T09:59:17.324Z"
   },
   {
    "duration": 0,
    "start_time": "2023-09-25T09:59:17.325Z"
   },
   {
    "duration": 0,
    "start_time": "2023-09-25T09:59:17.326Z"
   },
   {
    "duration": 0,
    "start_time": "2023-09-25T09:59:17.327Z"
   },
   {
    "duration": 0,
    "start_time": "2023-09-25T09:59:17.328Z"
   },
   {
    "duration": 0,
    "start_time": "2023-09-25T09:59:17.329Z"
   },
   {
    "duration": 0,
    "start_time": "2023-09-25T09:59:17.331Z"
   },
   {
    "duration": 0,
    "start_time": "2023-09-25T09:59:17.332Z"
   },
   {
    "duration": 0,
    "start_time": "2023-09-25T09:59:17.333Z"
   },
   {
    "duration": 0,
    "start_time": "2023-09-25T09:59:17.334Z"
   },
   {
    "duration": 71,
    "start_time": "2023-09-25T09:59:35.820Z"
   },
   {
    "duration": 2226,
    "start_time": "2023-09-25T09:59:40.733Z"
   },
   {
    "duration": 37,
    "start_time": "2023-09-25T09:59:42.962Z"
   },
   {
    "duration": 13,
    "start_time": "2023-09-25T09:59:43.001Z"
   },
   {
    "duration": 16,
    "start_time": "2023-09-25T09:59:43.016Z"
   },
   {
    "duration": 22,
    "start_time": "2023-09-25T09:59:43.036Z"
   },
   {
    "duration": 5,
    "start_time": "2023-09-25T09:59:43.059Z"
   },
   {
    "duration": 38,
    "start_time": "2023-09-25T09:59:43.066Z"
   },
   {
    "duration": 467,
    "start_time": "2023-09-25T09:59:43.106Z"
   },
   {
    "duration": 20,
    "start_time": "2023-09-25T09:59:43.574Z"
   },
   {
    "duration": 5,
    "start_time": "2023-09-25T09:59:43.596Z"
   },
   {
    "duration": 11,
    "start_time": "2023-09-25T09:59:43.602Z"
   },
   {
    "duration": 9,
    "start_time": "2023-09-25T09:59:43.615Z"
   },
   {
    "duration": 12,
    "start_time": "2023-09-25T09:59:43.626Z"
   },
   {
    "duration": 94,
    "start_time": "2023-09-25T09:59:43.640Z"
   },
   {
    "duration": 1899,
    "start_time": "2023-09-25T09:59:43.736Z"
   },
   {
    "duration": 25,
    "start_time": "2023-09-25T09:59:45.636Z"
   },
   {
    "duration": 30,
    "start_time": "2023-09-25T09:59:45.663Z"
   },
   {
    "duration": 8,
    "start_time": "2023-09-25T09:59:45.696Z"
   },
   {
    "duration": 142,
    "start_time": "2023-09-25T10:00:20.229Z"
   },
   {
    "duration": 6,
    "start_time": "2023-09-25T10:09:27.626Z"
   },
   {
    "duration": 1595,
    "start_time": "2023-09-25T10:09:35.001Z"
   },
   {
    "duration": 38,
    "start_time": "2023-09-25T10:09:36.599Z"
   },
   {
    "duration": 19,
    "start_time": "2023-09-25T10:09:36.639Z"
   },
   {
    "duration": 17,
    "start_time": "2023-09-25T10:09:36.660Z"
   },
   {
    "duration": 59,
    "start_time": "2023-09-25T10:09:36.680Z"
   },
   {
    "duration": 7,
    "start_time": "2023-09-25T10:09:36.740Z"
   },
   {
    "duration": 117,
    "start_time": "2023-09-25T10:09:36.749Z"
   },
   {
    "duration": 429,
    "start_time": "2023-09-25T10:09:36.868Z"
   },
   {
    "duration": 10,
    "start_time": "2023-09-25T10:09:37.298Z"
   },
   {
    "duration": 8,
    "start_time": "2023-09-25T10:09:37.315Z"
   },
   {
    "duration": 31,
    "start_time": "2023-09-25T10:09:37.326Z"
   },
   {
    "duration": 9,
    "start_time": "2023-09-25T10:09:37.358Z"
   },
   {
    "duration": 14,
    "start_time": "2023-09-25T10:09:37.369Z"
   },
   {
    "duration": 79,
    "start_time": "2023-09-25T10:09:37.391Z"
   },
   {
    "duration": 1973,
    "start_time": "2023-09-25T10:09:37.472Z"
   },
   {
    "duration": 54,
    "start_time": "2023-09-25T10:09:39.447Z"
   },
   {
    "duration": 17,
    "start_time": "2023-09-25T10:09:39.503Z"
   },
   {
    "duration": 6,
    "start_time": "2023-09-25T10:09:39.522Z"
   },
   {
    "duration": 197,
    "start_time": "2023-09-25T10:10:14.076Z"
   },
   {
    "duration": 1510,
    "start_time": "2023-09-25T10:12:58.272Z"
   },
   {
    "duration": 30,
    "start_time": "2023-09-25T10:12:59.784Z"
   },
   {
    "duration": 16,
    "start_time": "2023-09-25T10:12:59.816Z"
   },
   {
    "duration": 11,
    "start_time": "2023-09-25T10:12:59.833Z"
   },
   {
    "duration": 36,
    "start_time": "2023-09-25T10:12:59.849Z"
   },
   {
    "duration": 4,
    "start_time": "2023-09-25T10:12:59.887Z"
   },
   {
    "duration": 23,
    "start_time": "2023-09-25T10:12:59.893Z"
   },
   {
    "duration": 453,
    "start_time": "2023-09-25T10:12:59.918Z"
   },
   {
    "duration": 10,
    "start_time": "2023-09-25T10:13:00.373Z"
   },
   {
    "duration": 47,
    "start_time": "2023-09-25T10:13:00.385Z"
   },
   {
    "duration": 60,
    "start_time": "2023-09-25T10:13:00.434Z"
   },
   {
    "duration": 42,
    "start_time": "2023-09-25T10:13:00.496Z"
   },
   {
    "duration": 26,
    "start_time": "2023-09-25T10:13:00.540Z"
   },
   {
    "duration": 107,
    "start_time": "2023-09-25T10:13:00.569Z"
   },
   {
    "duration": 1935,
    "start_time": "2023-09-25T10:13:00.677Z"
   },
   {
    "duration": 52,
    "start_time": "2023-09-25T10:13:02.614Z"
   },
   {
    "duration": 16,
    "start_time": "2023-09-25T10:13:02.680Z"
   },
   {
    "duration": 30,
    "start_time": "2023-09-25T10:13:02.698Z"
   },
   {
    "duration": 89,
    "start_time": "2023-09-25T10:16:15.606Z"
   },
   {
    "duration": 8,
    "start_time": "2023-09-25T10:16:47.316Z"
   },
   {
    "duration": 1602,
    "start_time": "2023-09-25T10:16:53.368Z"
   },
   {
    "duration": 31,
    "start_time": "2023-09-25T10:16:54.972Z"
   },
   {
    "duration": 16,
    "start_time": "2023-09-25T10:16:55.004Z"
   },
   {
    "duration": 12,
    "start_time": "2023-09-25T10:16:55.022Z"
   },
   {
    "duration": 59,
    "start_time": "2023-09-25T10:16:55.037Z"
   },
   {
    "duration": 5,
    "start_time": "2023-09-25T10:16:55.098Z"
   },
   {
    "duration": 13,
    "start_time": "2023-09-25T10:16:55.104Z"
   },
   {
    "duration": 426,
    "start_time": "2023-09-25T10:16:55.119Z"
   },
   {
    "duration": 5,
    "start_time": "2023-09-25T10:16:55.546Z"
   },
   {
    "duration": 21,
    "start_time": "2023-09-25T10:16:55.553Z"
   },
   {
    "duration": 11,
    "start_time": "2023-09-25T10:16:55.576Z"
   },
   {
    "duration": 8,
    "start_time": "2023-09-25T10:16:55.589Z"
   },
   {
    "duration": 8,
    "start_time": "2023-09-25T10:16:55.598Z"
   },
   {
    "duration": 100,
    "start_time": "2023-09-25T10:16:55.610Z"
   },
   {
    "duration": 1953,
    "start_time": "2023-09-25T10:16:55.713Z"
   },
   {
    "duration": 44,
    "start_time": "2023-09-25T10:16:57.668Z"
   },
   {
    "duration": 12,
    "start_time": "2023-09-25T10:16:57.713Z"
   },
   {
    "duration": 7,
    "start_time": "2023-09-25T10:16:57.727Z"
   },
   {
    "duration": 1951,
    "start_time": "2023-09-25T10:17:12.962Z"
   },
   {
    "duration": 174,
    "start_time": "2023-09-25T10:17:29.221Z"
   },
   {
    "duration": 72,
    "start_time": "2023-09-25T10:17:32.489Z"
   },
   {
    "duration": 89,
    "start_time": "2023-09-25T10:18:27.575Z"
   },
   {
    "duration": 125,
    "start_time": "2023-09-25T10:22:53.205Z"
   },
   {
    "duration": 1779,
    "start_time": "2023-09-25T10:23:02.462Z"
   },
   {
    "duration": 1848,
    "start_time": "2023-09-25T10:24:52.690Z"
   },
   {
    "duration": 1998,
    "start_time": "2023-09-25T10:25:16.525Z"
   },
   {
    "duration": 1833,
    "start_time": "2023-09-25T10:27:07.531Z"
   },
   {
    "duration": 21,
    "start_time": "2023-09-25T10:27:25.730Z"
   },
   {
    "duration": 1776,
    "start_time": "2023-09-25T10:27:31.338Z"
   },
   {
    "duration": 2268,
    "start_time": "2023-09-25T10:30:35.881Z"
   },
   {
    "duration": 2199,
    "start_time": "2023-09-25T10:31:43.355Z"
   },
   {
    "duration": 145,
    "start_time": "2023-09-25T10:32:03.033Z"
   },
   {
    "duration": 2131,
    "start_time": "2023-09-25T10:32:22.665Z"
   },
   {
    "duration": 143,
    "start_time": "2023-09-25T10:32:26.822Z"
   },
   {
    "duration": 271,
    "start_time": "2023-09-25T10:32:46.445Z"
   },
   {
    "duration": 1430,
    "start_time": "2023-09-25T10:33:42.707Z"
   },
   {
    "duration": 30,
    "start_time": "2023-09-25T10:33:44.139Z"
   },
   {
    "duration": 16,
    "start_time": "2023-09-25T10:33:44.173Z"
   },
   {
    "duration": 13,
    "start_time": "2023-09-25T10:33:44.191Z"
   },
   {
    "duration": 23,
    "start_time": "2023-09-25T10:33:44.205Z"
   },
   {
    "duration": 4,
    "start_time": "2023-09-25T10:33:44.230Z"
   },
   {
    "duration": 11,
    "start_time": "2023-09-25T10:33:44.236Z"
   },
   {
    "duration": 396,
    "start_time": "2023-09-25T10:33:44.249Z"
   },
   {
    "duration": 4,
    "start_time": "2023-09-25T10:33:44.647Z"
   },
   {
    "duration": 31,
    "start_time": "2023-09-25T10:33:44.652Z"
   },
   {
    "duration": 29,
    "start_time": "2023-09-25T10:33:44.684Z"
   },
   {
    "duration": 19,
    "start_time": "2023-09-25T10:33:44.715Z"
   },
   {
    "duration": 23,
    "start_time": "2023-09-25T10:33:44.736Z"
   },
   {
    "duration": 101,
    "start_time": "2023-09-25T10:33:44.760Z"
   },
   {
    "duration": 2238,
    "start_time": "2023-09-25T10:33:44.863Z"
   },
   {
    "duration": 290,
    "start_time": "2023-09-25T10:33:47.103Z"
   },
   {
    "duration": 37,
    "start_time": "2023-09-25T10:33:47.395Z"
   },
   {
    "duration": 11,
    "start_time": "2023-09-25T10:33:47.434Z"
   },
   {
    "duration": 5,
    "start_time": "2023-09-25T10:33:47.446Z"
   },
   {
    "duration": 220,
    "start_time": "2023-09-25T10:36:12.222Z"
   },
   {
    "duration": 141,
    "start_time": "2023-09-25T10:37:19.213Z"
   },
   {
    "duration": 2241,
    "start_time": "2023-09-25T10:37:24.235Z"
   },
   {
    "duration": 211,
    "start_time": "2023-09-25T10:37:29.119Z"
   },
   {
    "duration": 209,
    "start_time": "2023-09-25T10:38:29.621Z"
   },
   {
    "duration": 14,
    "start_time": "2023-09-25T10:53:07.092Z"
   },
   {
    "duration": 299,
    "start_time": "2023-09-25T10:59:01.782Z"
   },
   {
    "duration": 52,
    "start_time": "2023-09-25T10:59:54.606Z"
   },
   {
    "duration": 188,
    "start_time": "2023-09-25T11:02:10.626Z"
   },
   {
    "duration": 80,
    "start_time": "2023-09-25T11:02:38.061Z"
   },
   {
    "duration": 57,
    "start_time": "2023-09-25T11:04:07.717Z"
   },
   {
    "duration": 75,
    "start_time": "2023-09-25T11:04:21.712Z"
   },
   {
    "duration": 75,
    "start_time": "2023-09-25T11:05:28.240Z"
   },
   {
    "duration": 71,
    "start_time": "2023-09-25T11:05:41.936Z"
   },
   {
    "duration": 72,
    "start_time": "2023-09-25T11:05:53.419Z"
   },
   {
    "duration": 74,
    "start_time": "2023-09-25T11:06:00.175Z"
   },
   {
    "duration": 7,
    "start_time": "2023-09-25T11:11:45.236Z"
   },
   {
    "duration": 1929,
    "start_time": "2023-09-25T11:13:39.210Z"
   },
   {
    "duration": 33,
    "start_time": "2023-09-25T11:13:41.141Z"
   },
   {
    "duration": 19,
    "start_time": "2023-09-25T11:13:41.177Z"
   },
   {
    "duration": 13,
    "start_time": "2023-09-25T11:13:41.197Z"
   },
   {
    "duration": 28,
    "start_time": "2023-09-25T11:13:41.212Z"
   },
   {
    "duration": 4,
    "start_time": "2023-09-25T11:13:41.242Z"
   },
   {
    "duration": 9,
    "start_time": "2023-09-25T11:13:41.248Z"
   },
   {
    "duration": 376,
    "start_time": "2023-09-25T11:13:41.281Z"
   },
   {
    "duration": 4,
    "start_time": "2023-09-25T11:13:41.659Z"
   },
   {
    "duration": 14,
    "start_time": "2023-09-25T11:13:41.665Z"
   },
   {
    "duration": 21,
    "start_time": "2023-09-25T11:13:41.681Z"
   },
   {
    "duration": 35,
    "start_time": "2023-09-25T11:13:41.704Z"
   },
   {
    "duration": 37,
    "start_time": "2023-09-25T11:13:41.741Z"
   },
   {
    "duration": 97,
    "start_time": "2023-09-25T11:13:41.780Z"
   },
   {
    "duration": 130,
    "start_time": "2023-09-25T11:13:41.879Z"
   },
   {
    "duration": 0,
    "start_time": "2023-09-25T11:13:42.011Z"
   },
   {
    "duration": 0,
    "start_time": "2023-09-25T11:13:42.013Z"
   },
   {
    "duration": 0,
    "start_time": "2023-09-25T11:13:42.014Z"
   },
   {
    "duration": 0,
    "start_time": "2023-09-25T11:13:42.016Z"
   },
   {
    "duration": 0,
    "start_time": "2023-09-25T11:13:42.017Z"
   },
   {
    "duration": 3730,
    "start_time": "2023-09-25T17:40:09.899Z"
   },
   {
    "duration": 31,
    "start_time": "2023-09-25T17:40:13.631Z"
   },
   {
    "duration": 47,
    "start_time": "2023-09-25T17:40:13.664Z"
   },
   {
    "duration": 36,
    "start_time": "2023-09-25T17:40:13.714Z"
   },
   {
    "duration": 74,
    "start_time": "2023-09-25T17:40:13.752Z"
   },
   {
    "duration": 13,
    "start_time": "2023-09-25T17:40:13.828Z"
   },
   {
    "duration": 35,
    "start_time": "2023-09-25T17:40:13.842Z"
   },
   {
    "duration": 450,
    "start_time": "2023-09-25T17:40:13.879Z"
   },
   {
    "duration": 5,
    "start_time": "2023-09-25T17:40:14.332Z"
   },
   {
    "duration": 26,
    "start_time": "2023-09-25T17:40:14.339Z"
   },
   {
    "duration": 25,
    "start_time": "2023-09-25T17:40:14.366Z"
   },
   {
    "duration": 15,
    "start_time": "2023-09-25T17:40:14.393Z"
   },
   {
    "duration": 32,
    "start_time": "2023-09-25T17:40:14.410Z"
   },
   {
    "duration": 120,
    "start_time": "2023-09-25T17:40:14.444Z"
   },
   {
    "duration": 184,
    "start_time": "2023-09-25T17:40:14.566Z"
   },
   {
    "duration": 0,
    "start_time": "2023-09-25T17:40:14.752Z"
   },
   {
    "duration": 0,
    "start_time": "2023-09-25T17:40:14.755Z"
   },
   {
    "duration": 0,
    "start_time": "2023-09-25T17:40:14.756Z"
   },
   {
    "duration": 0,
    "start_time": "2023-09-25T17:40:14.758Z"
   },
   {
    "duration": 0,
    "start_time": "2023-09-25T17:40:14.760Z"
   },
   {
    "duration": 191,
    "start_time": "2023-09-25T17:40:47.186Z"
   },
   {
    "duration": 39,
    "start_time": "2023-09-25T17:40:53.969Z"
   },
   {
    "duration": 13,
    "start_time": "2023-09-25T17:42:12.027Z"
   },
   {
    "duration": 25,
    "start_time": "2023-09-25T17:42:13.731Z"
   },
   {
    "duration": 2078,
    "start_time": "2023-09-25T17:59:34.684Z"
   },
   {
    "duration": 113,
    "start_time": "2023-09-25T17:59:36.765Z"
   },
   {
    "duration": 17,
    "start_time": "2023-09-25T17:59:36.879Z"
   },
   {
    "duration": 40,
    "start_time": "2023-09-25T17:59:36.897Z"
   },
   {
    "duration": 32,
    "start_time": "2023-09-25T17:59:36.940Z"
   },
   {
    "duration": 5,
    "start_time": "2023-09-25T17:59:36.973Z"
   },
   {
    "duration": 13,
    "start_time": "2023-09-25T17:59:36.979Z"
   },
   {
    "duration": 466,
    "start_time": "2023-09-25T17:59:36.993Z"
   },
   {
    "duration": 4,
    "start_time": "2023-09-25T17:59:37.461Z"
   },
   {
    "duration": 18,
    "start_time": "2023-09-25T17:59:37.467Z"
   },
   {
    "duration": 13,
    "start_time": "2023-09-25T17:59:37.487Z"
   },
   {
    "duration": 11,
    "start_time": "2023-09-25T17:59:37.502Z"
   },
   {
    "duration": 12,
    "start_time": "2023-09-25T17:59:37.515Z"
   },
   {
    "duration": 80,
    "start_time": "2023-09-25T17:59:37.529Z"
   },
   {
    "duration": 146,
    "start_time": "2023-09-25T17:59:37.611Z"
   },
   {
    "duration": 0,
    "start_time": "2023-09-25T17:59:37.759Z"
   },
   {
    "duration": 0,
    "start_time": "2023-09-25T17:59:37.761Z"
   },
   {
    "duration": 0,
    "start_time": "2023-09-25T17:59:37.763Z"
   },
   {
    "duration": 0,
    "start_time": "2023-09-25T17:59:37.764Z"
   },
   {
    "duration": 0,
    "start_time": "2023-09-25T17:59:37.766Z"
   },
   {
    "duration": 2289,
    "start_time": "2023-09-25T18:00:57.350Z"
   },
   {
    "duration": 1605,
    "start_time": "2023-09-25T18:01:15.117Z"
   },
   {
    "duration": 29,
    "start_time": "2023-09-25T18:01:16.724Z"
   },
   {
    "duration": 16,
    "start_time": "2023-09-25T18:01:16.755Z"
   },
   {
    "duration": 14,
    "start_time": "2023-09-25T18:01:16.773Z"
   },
   {
    "duration": 40,
    "start_time": "2023-09-25T18:01:16.789Z"
   },
   {
    "duration": 6,
    "start_time": "2023-09-25T18:01:16.831Z"
   },
   {
    "duration": 14,
    "start_time": "2023-09-25T18:01:16.839Z"
   },
   {
    "duration": 374,
    "start_time": "2023-09-25T18:01:16.854Z"
   },
   {
    "duration": 4,
    "start_time": "2023-09-25T18:01:17.230Z"
   },
   {
    "duration": 10,
    "start_time": "2023-09-25T18:01:17.247Z"
   },
   {
    "duration": 10,
    "start_time": "2023-09-25T18:01:17.259Z"
   },
   {
    "duration": 5,
    "start_time": "2023-09-25T18:01:17.271Z"
   },
   {
    "duration": 9,
    "start_time": "2023-09-25T18:01:17.277Z"
   },
   {
    "duration": 96,
    "start_time": "2023-09-25T18:01:17.288Z"
   },
   {
    "duration": 2262,
    "start_time": "2023-09-25T18:01:17.386Z"
   },
   {
    "duration": 241,
    "start_time": "2023-09-25T18:01:19.650Z"
   },
   {
    "duration": 41,
    "start_time": "2023-09-25T18:01:19.893Z"
   },
   {
    "duration": 21,
    "start_time": "2023-09-25T18:01:19.936Z"
   },
   {
    "duration": 91,
    "start_time": "2023-09-25T18:01:19.959Z"
   },
   {
    "duration": 5,
    "start_time": "2023-09-25T18:01:20.052Z"
   },
   {
    "duration": 37,
    "start_time": "2023-09-25T18:03:11.746Z"
   },
   {
    "duration": 1523,
    "start_time": "2023-09-25T18:04:35.979Z"
   },
   {
    "duration": 30,
    "start_time": "2023-09-25T18:04:37.505Z"
   },
   {
    "duration": 24,
    "start_time": "2023-09-25T18:04:37.537Z"
   },
   {
    "duration": 23,
    "start_time": "2023-09-25T18:04:37.562Z"
   },
   {
    "duration": 37,
    "start_time": "2023-09-25T18:04:37.587Z"
   },
   {
    "duration": 4,
    "start_time": "2023-09-25T18:04:37.626Z"
   },
   {
    "duration": 10,
    "start_time": "2023-09-25T18:04:37.632Z"
   },
   {
    "duration": 384,
    "start_time": "2023-09-25T18:04:37.644Z"
   },
   {
    "duration": 5,
    "start_time": "2023-09-25T18:04:38.030Z"
   },
   {
    "duration": 6,
    "start_time": "2023-09-25T18:04:38.047Z"
   },
   {
    "duration": 24,
    "start_time": "2023-09-25T18:04:38.054Z"
   },
   {
    "duration": 31,
    "start_time": "2023-09-25T18:04:38.080Z"
   },
   {
    "duration": 16,
    "start_time": "2023-09-25T18:04:38.113Z"
   },
   {
    "duration": 102,
    "start_time": "2023-09-25T18:04:38.132Z"
   },
   {
    "duration": 2400,
    "start_time": "2023-09-25T18:04:38.236Z"
   },
   {
    "duration": 226,
    "start_time": "2023-09-25T18:04:40.647Z"
   },
   {
    "duration": 47,
    "start_time": "2023-09-25T18:04:40.875Z"
   },
   {
    "duration": 29,
    "start_time": "2023-09-25T18:04:40.924Z"
   },
   {
    "duration": 173,
    "start_time": "2023-09-25T18:04:40.955Z"
   },
   {
    "duration": 19,
    "start_time": "2023-09-25T18:04:41.130Z"
   },
   {
    "duration": 120,
    "start_time": "2023-09-25T18:06:09.447Z"
   },
   {
    "duration": 1608,
    "start_time": "2023-09-25T18:06:42.946Z"
   },
   {
    "duration": 31,
    "start_time": "2023-09-25T18:06:44.556Z"
   },
   {
    "duration": 18,
    "start_time": "2023-09-25T18:06:44.588Z"
   },
   {
    "duration": 13,
    "start_time": "2023-09-25T18:06:44.609Z"
   },
   {
    "duration": 54,
    "start_time": "2023-09-25T18:06:44.624Z"
   },
   {
    "duration": 5,
    "start_time": "2023-09-25T18:06:44.680Z"
   },
   {
    "duration": 10,
    "start_time": "2023-09-25T18:06:44.686Z"
   },
   {
    "duration": 419,
    "start_time": "2023-09-25T18:06:44.698Z"
   },
   {
    "duration": 5,
    "start_time": "2023-09-25T18:06:45.119Z"
   },
   {
    "duration": 19,
    "start_time": "2023-09-25T18:06:45.127Z"
   },
   {
    "duration": 10,
    "start_time": "2023-09-25T18:06:45.149Z"
   },
   {
    "duration": 10,
    "start_time": "2023-09-25T18:06:45.161Z"
   },
   {
    "duration": 12,
    "start_time": "2023-09-25T18:06:45.173Z"
   },
   {
    "duration": 112,
    "start_time": "2023-09-25T18:06:45.186Z"
   },
   {
    "duration": 2322,
    "start_time": "2023-09-25T18:06:45.300Z"
   },
   {
    "duration": 242,
    "start_time": "2023-09-25T18:06:47.624Z"
   },
   {
    "duration": 60,
    "start_time": "2023-09-25T18:06:47.868Z"
   },
   {
    "duration": 26,
    "start_time": "2023-09-25T18:06:47.930Z"
   },
   {
    "duration": 53,
    "start_time": "2023-09-25T18:06:47.957Z"
   },
   {
    "duration": 17,
    "start_time": "2023-09-25T18:06:48.012Z"
   },
   {
    "duration": 3386,
    "start_time": "2023-09-25T19:02:33.099Z"
   },
   {
    "duration": 116,
    "start_time": "2023-09-25T19:02:36.488Z"
   },
   {
    "duration": 17,
    "start_time": "2023-09-25T19:02:36.606Z"
   },
   {
    "duration": 20,
    "start_time": "2023-09-25T19:02:36.625Z"
   },
   {
    "duration": 69,
    "start_time": "2023-09-25T19:02:36.646Z"
   },
   {
    "duration": 27,
    "start_time": "2023-09-25T19:02:36.717Z"
   },
   {
    "duration": 95,
    "start_time": "2023-09-25T19:02:36.746Z"
   },
   {
    "duration": 467,
    "start_time": "2023-09-25T19:02:36.843Z"
   },
   {
    "duration": 5,
    "start_time": "2023-09-25T19:02:37.311Z"
   },
   {
    "duration": 93,
    "start_time": "2023-09-25T19:02:37.319Z"
   },
   {
    "duration": 23,
    "start_time": "2023-09-25T19:02:37.413Z"
   },
   {
    "duration": 41,
    "start_time": "2023-09-25T19:02:37.438Z"
   },
   {
    "duration": 47,
    "start_time": "2023-09-25T19:02:37.481Z"
   },
   {
    "duration": 78,
    "start_time": "2023-09-25T19:02:37.529Z"
   },
   {
    "duration": 2175,
    "start_time": "2023-09-25T19:02:37.609Z"
   },
   {
    "duration": 217,
    "start_time": "2023-09-25T19:02:39.786Z"
   },
   {
    "duration": 37,
    "start_time": "2023-09-25T19:02:40.005Z"
   },
   {
    "duration": 12,
    "start_time": "2023-09-25T19:02:40.044Z"
   },
   {
    "duration": 49,
    "start_time": "2023-09-25T19:02:40.059Z"
   },
   {
    "duration": 107,
    "start_time": "2023-09-25T19:02:40.110Z"
   }
  ],
  "kernelspec": {
   "display_name": "Python 3 (ipykernel)",
   "language": "python",
   "name": "python3"
  },
  "language_info": {
   "codemirror_mode": {
    "name": "ipython",
    "version": 3
   },
   "file_extension": ".py",
   "mimetype": "text/x-python",
   "name": "python",
   "nbconvert_exporter": "python",
   "pygments_lexer": "ipython3",
   "version": "3.9.5"
  },
  "toc": {
   "base_numbering": 1,
   "nav_menu": {},
   "number_sections": true,
   "sideBar": true,
   "skip_h1_title": true,
   "title_cell": "Table of Contents",
   "title_sidebar": "Contents",
   "toc_cell": false,
   "toc_position": {},
   "toc_section_display": true,
   "toc_window_display": false
  }
 },
 "nbformat": 4,
 "nbformat_minor": 2
}
